{
 "cells": [
  {
   "cell_type": "raw",
   "metadata": {},
   "source": [
    "Given an integer, , print the following values for each integer  from  to :\n",
    "\n",
    "Decimal\n",
    "Octal\n",
    "Hexadecimal (capitalized)\n",
    "Binary\n",
    "The four values must be printed on a single line in the order specified above for each  from  to . Each value should be space-padded to match the width of the binary value of .\n",
    "\n",
    "Input Format\n",
    "\n",
    "A single integer denoting .\n",
    "\n",
    "Constraints\n",
    "\n",
    "Output Format\n",
    "\n",
    "Print  lines where each line  (in the range ) contains the respective decimal, octal, capitalized hexadecimal, and binary values of . Each printed value must be formatted to the width of the binary value of .\n",
    "\n",
    "Sample Input\n",
    "\n",
    "17\n",
    "Sample Output\n",
    "\n",
    "    1     1     1     1\n",
    "    2     2     2    10\n",
    "    3     3     3    11\n",
    "    4     4     4   100\n",
    "    5     5     5   101\n",
    "    6     6     6   110\n",
    "    7     7     7   111\n",
    "    8    10     8  1000\n",
    "    9    11     9  1001\n",
    "   10    12     A  1010\n",
    "   11    13     B  1011\n",
    "   12    14     C  1100\n",
    "   13    15     D  1101\n",
    "   14    16     E  1110\n",
    "   15    17     F  1111\n",
    "   16    20    10 10000\n",
    "   17    21    11 10001     "
   ]
  },
  {
   "cell_type": "code",
   "execution_count": 27,
   "metadata": {},
   "outputs": [
    {
     "name": "stdout",
     "output_type": "stream",
     "text": [
      "6\n",
      "1 1 1 1\n",
      "2 2 2 10\n",
      "3 3 3 11\n",
      "4 4 4 100\n",
      "5 5 5 101\n"
     ]
    }
   ],
   "source": [
    "def print_formatted(number):\n",
    "    # your code goes here\n",
    "    for i in range(1,number):\n",
    "        print(i,str(oct(i))[2:],str(hex(i))[2:].upper(),str(bin(i))[2:].rstrip('\\r\\n'))\n",
    "\n",
    "if __name__ == '__main__':\n",
    "    n = int(input())\n",
    "    print_formatted(n)"
   ]
  },
  {
   "cell_type": "code",
   "execution_count": null,
   "metadata": {},
   "outputs": [],
   "source": []
  },
  {
   "cell_type": "code",
   "execution_count": null,
   "metadata": {},
   "outputs": [],
   "source": []
  }
 ],
 "metadata": {
  "kernelspec": {
   "display_name": "Python 3",
   "language": "python",
   "name": "python3"
  },
  "language_info": {
   "codemirror_mode": {
    "name": "ipython",
    "version": 3
   },
   "file_extension": ".py",
   "mimetype": "text/x-python",
   "name": "python",
   "nbconvert_exporter": "python",
   "pygments_lexer": "ipython3",
   "version": "3.7.0"
  }
 },
 "nbformat": 4,
 "nbformat_minor": 2
}
