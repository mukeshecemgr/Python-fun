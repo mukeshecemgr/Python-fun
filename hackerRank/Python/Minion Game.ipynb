{
 "cells": [
  {
   "cell_type": "raw",
   "metadata": {},
   "source": [
    "Kevin and Stuart want to play the 'The Minion Game'.\n",
    "\n",
    "Game Rules\n",
    "\n",
    "Both players are given the same string, .\n",
    "Both players have to make substrings using the letters of the string .\n",
    "Stuart has to make words starting with consonants.\n",
    "Kevin has to make words starting with vowels. \n",
    "The game ends when both players have made all possible substrings. \n",
    "\n",
    "Scoring\n",
    "A player gets +1 point for each occurrence of the substring in the string .\n",
    "\n",
    "For Example:\n",
    "String  = BANANA\n",
    "Kevin's vowel beginning word = ANA\n",
    "Here, ANA occurs twice in BANANA. Hence, Kevin will get 2 Points. \n",
    "\n",
    "\n",
    "Your task is to determine the winner of the game and their score.\n",
    "\n",
    "Input Format\n",
    "\n",
    "A single line of input containing the string . \n",
    "Note: The string  will contain only uppercase letters: .\n",
    "\n",
    "Constraints\n",
    "\n",
    "\n",
    "\n",
    "Output Format\n",
    "\n",
    "Print one line: the name of the winner and their score separated by a space.\n",
    "\n",
    "If the game is a draw, print Draw.\n",
    "\n",
    "Sample Input\n",
    "\n",
    "BANANA\n",
    "Sample Output\n",
    "\n",
    "Stuart 12"
   ]
  },
  {
   "cell_type": "code",
   "execution_count": 8,
   "metadata": {},
   "outputs": [
    {
     "name": "stdout",
     "output_type": "stream",
     "text": [
      "BANANA\n",
      "Stuart 12\n"
     ]
    }
   ],
   "source": [
    "def minion():\n",
    "    string = input()\n",
    "\n",
    "# your code goes here\n",
    "    vowel='AEIOU'\n",
    "\n",
    "    stuart=0\n",
    "    kevin=0\n",
    " \n",
    "    kevsc = 0\n",
    "    stusc = 0\n",
    "    for i in range(len(s)):\n",
    "        if s[i] in vowels:\n",
    "            kevsc += (len(s)-i)\n",
    "        else:\n",
    "            stusc += (len(s)-i)\n",
    "            \n",
    "    if kevsc > stusc:\n",
    "        print(\"Kevin\",kevsc) \n",
    "    elif kevsc < stusc:\n",
    "        print(\"Stuart\",stusc)\n",
    "    else:\n",
    "        print(\"Draw\")\n",
    "minion()"
   ]
  }
 ],
 "metadata": {
  "kernelspec": {
   "display_name": "Python 3",
   "language": "python",
   "name": "python3"
  },
  "language_info": {
   "codemirror_mode": {
    "name": "ipython",
    "version": 3
   },
   "file_extension": ".py",
   "mimetype": "text/x-python",
   "name": "python",
   "nbconvert_exporter": "python",
   "pygments_lexer": "ipython3",
   "version": "3.7.0"
  }
 },
 "nbformat": 4,
 "nbformat_minor": 2
}
