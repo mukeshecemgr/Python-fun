{
 "cells": [
  {
   "cell_type": "code",
   "execution_count": 10,
   "metadata": {},
   "outputs": [
    {
     "name": "stdout",
     "output_type": "stream",
     "text": [
      "AABCAAADA\n",
      "3\n",
      "AB\n",
      "CA\n",
      "DA\n"
     ]
    }
   ],
   "source": [
    "def merge_the_tools(string, k):\n",
    "    # your code goes here\n",
    "    n=len(string)\n",
    "    factor=int(n/k)\n",
    "    varlen1 = 0\n",
    "    varlen2 = factor\n",
    "    t=[]\n",
    "    while n >= varlen2:\n",
    "        t.append(string[varlen1:varlen2])\n",
    "        varlen1 = varlen2\n",
    "        varlen2 += factor\n",
    "    for i in range(len(t)):\n",
    "        print(\"\".join(set(t[i])))\n",
    "        \n",
    "    \n",
    "    return\n",
    "\n",
    "if __name__ == '__main__':\n",
    "    string, k = input(), int(input())\n",
    "    merge_the_tools(string, k)"
   ]
  },
  {
   "cell_type": "code",
   "execution_count": 4,
   "metadata": {},
   "outputs": [
    {
     "name": "stdout",
     "output_type": "stream",
     "text": [
      "AAB\n"
     ]
    }
   ],
   "source": [
    "s=\"AABCAAADA\"\n",
    "f=0\n",
    "f1=3\n",
    "print(s[f:f1])"
   ]
  },
  {
   "cell_type": "code",
   "execution_count": null,
   "metadata": {},
   "outputs": [],
   "source": []
  }
 ],
 "metadata": {
  "kernelspec": {
   "display_name": "Python 3",
   "language": "python",
   "name": "python3"
  }
 },
 "nbformat": 4,
 "nbformat_minor": 2
}
