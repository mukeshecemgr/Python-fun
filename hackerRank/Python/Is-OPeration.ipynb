{
 "cells": [
  {
   "cell_type": "markdown",
   "metadata": {},
   "source": [
    "Python has built-in string validation methods for basic data. It can check if a string is composed of alphabetical characters, alphanumeric characters, digits, etc.\n",
    "\n",
    "str.isalnum() \n",
    "This method checks if all the characters of a string are alphanumeric (a-z, A-Z and 0-9).\n",
    "\n",
    ">>> print 'ab123'.isalnum()\n",
    "True\n",
    ">>> print 'ab123#'.isalnum()\n",
    "False\n",
    "str.isalpha() \n",
    "This method checks if all the characters of a string are alphabetical (a-z and A-Z).\n",
    "\n",
    ">>> print 'abcD'.isalpha()\n",
    "True\n",
    ">>> print 'abcd1'.isalpha()\n",
    "False\n",
    "str.isdigit() \n",
    "This method checks if all the characters of a string are digits (0-9).\n",
    "\n",
    ">>> print '1234'.isdigit()\n",
    "True\n",
    ">>> print '123edsd'.isdigit()\n",
    "False\n",
    "str.islower() \n",
    "This method checks if all the characters of a string are lowercase characters (a-z).\n",
    "\n",
    ">>> print 'abcd123#'.islower()\n",
    "True\n",
    ">>> print 'Abcd123#'.islower()\n",
    "False\n",
    "str.isupper() \n",
    "This method checks if all the characters of a string are uppercase characters (A-Z).\n",
    "\n",
    ">>> print 'ABCD123#'.isupper()\n",
    "True\n",
    ">>> print 'Abcd123#'.isupper()\n",
    "False\n",
    "Task\n",
    "\n",
    "You are given a string . \n",
    "Your task is to find out if the string  contains: alphanumeric characters, alphabetical characters, digits, lowercase and uppercase characters.\n",
    "\n",
    ">Input Format\n",
    "\n",
    "A single line containing a string .\n",
    "\n",
    ">Constraints\n",
    "0 < len(S) < 1000\n",
    "\n",
    "Output Format\n",
    "\n",
    "In the first line, print True if  has any alphanumeric characters. Otherwise, print False. \n",
    "In the second line, print True if  has any alphabetical characters. Otherwise, print False. \n",
    "In the third line, print True if  has any digits. Otherwise, print False. \n",
    "In the fourth line, print True if  has any lowercase characters. Otherwise, print False. \n",
    "In the fifth line, print True if  has any uppercase characters. Otherwise, print False.\n",
    "\n",
    ">>Sample Input\n",
    "\n",
    "qA2\n",
    ">>Sample Output\n",
    "\n",
    "True\n",
    "True\n",
    "True\n",
    "True\n",
    "True"
   ]
  },
  {
   "cell_type": "code",
   "execution_count": 1,
   "metadata": {},
   "outputs": [
    {
     "name": "stdout",
     "output_type": "stream",
     "text": [
      "hgfhg554AS\n",
      "True\n",
      "True\n",
      "True\n",
      "True\n",
      "True\n"
     ]
    }
   ],
   "source": [
    "if __name__ == '__main__':\n",
    "    s = input()\n",
    "    print(any(c.isalnum() for c in s))\n",
    "    print(any(c.isalpha() for c in s))\n",
    "    print(any(c.isdigit() for c in s))\n",
    "    print(any(c.islower() for c in s))\n",
    "    print(any(c.isupper() for c in s))"
   ]
  },
  {
   "cell_type": "code",
   "execution_count": null,
   "metadata": {},
   "outputs": [],
   "source": []
  }
 ],
 "metadata": {
  "kernelspec": {
   "display_name": "Python 3",
   "language": "python",
   "name": "python3"
  },
  "language_info": {
   "codemirror_mode": {
    "name": "ipython",
    "version": 3
   },
   "file_extension": ".py",
   "mimetype": "text/x-python",
   "name": "python",
   "nbconvert_exporter": "python",
   "pygments_lexer": "ipython3",
   "version": "3.7.0"
  }
 },
 "nbformat": 4,
 "nbformat_minor": 2
}
