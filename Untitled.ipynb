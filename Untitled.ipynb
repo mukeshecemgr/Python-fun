{
 "cells": [
  {
   "cell_type": "code",
   "execution_count": 1,
   "metadata": {},
   "outputs": [],
   "source": [
    "n = 14"
   ]
  },
  {
   "cell_type": "code",
   "execution_count": 7,
   "metadata": {},
   "outputs": [],
   "source": [
    "if n in range(10,13):\n",
    "    print(\"hello World\")"
   ]
  },
  {
   "cell_type": "code",
   "execution_count": 15,
   "metadata": {},
   "outputs": [
    {
     "name": "stdout",
     "output_type": "stream",
     "text": [
      "24\n",
      "24\n",
      "0\n",
      "Not Weired\n"
     ]
    }
   ],
   "source": [
    "if __name__ == '__main__':\n",
    "    n = int(input().strip())\n",
    "    if n in range(1,100):\n",
    "        print(n)\n",
    "        res = n % 2\n",
    "        print(res)\n",
    "        if res == 1:\n",
    "            print(\"Weird\")\n",
    "        elif n in range(2,5):\n",
    "            print(\"Not Weired\")\n",
    "        elif n in range(6,20):\n",
    "            print(\"Weired\")\n",
    "        elif n > 20:\n",
    "             print(\"Not Weired\")"
   ]
  },
  {
   "cell_type": "code",
   "execution_count": 26,
   "metadata": {},
   "outputs": [
    {
     "name": "stdout",
     "output_type": "stream",
     "text": [
      "1990\n",
      "************\n",
      "No a leap year\n"
     ]
    }
   ],
   "source": [
    "def is_leap(year):\n",
    "    leap = False\n",
    "    \n",
    "    # Write your logic here\n",
    "    if year % 100 == 0:\n",
    "        print(\"===========\")\n",
    "        if (year % 400 == 0):\n",
    "            print(\"++++++++++++\")\n",
    "            if (year % 4 == 0):\n",
    "                print(\"-------------\")\n",
    "                return leap\n",
    "    print(\"************\")\n",
    "    return leap\n",
    "\n",
    "year = int(input())\n",
    "res = is_leap(year)\n",
    "\n",
    "if res == False:\n",
    "    print(\"No a leap year\")\n",
    "else :\n",
    "    print(\"Leap Year\")"
   ]
  },
  {
   "cell_type": "code",
   "execution_count": 20,
   "metadata": {},
   "outputs": [
    {
     "name": "stdout",
     "output_type": "stream",
     "text": [
      "2\n"
     ]
    }
   ],
   "source": [
    "print(1990%4)"
   ]
  },
  {
   "cell_type": "code",
   "execution_count": 23,
   "metadata": {},
   "outputs": [
    {
     "name": "stdout",
     "output_type": "stream",
     "text": [
      "90\n"
     ]
    }
   ],
   "source": [
    "print(1990%100)"
   ]
  },
  {
   "cell_type": "code",
   "execution_count": null,
   "metadata": {},
   "outputs": [],
   "source": [
    "Read an integer .\n",
    "\n",
    "Without using any string methods, try to print the following:\n",
    "\n",
    "\n",
    "Note that \"\" represents the values in between.\n",
    "\n",
    "Input Format\n",
    "\n",
    "The first line contains an integer .\n",
    "\n",
    "Output Format\n",
    "\n",
    "Output the answer as explained in the task.\n",
    "\n",
    "Sample Input 0\n",
    "\n",
    "3\n",
    "Sample Output 0\n",
    "\n",
    "123"
   ]
  }
 ],
 "metadata": {
  "kernelspec": {
   "display_name": "Python 3",
   "language": "python",
   "name": "python3"
  },
  "language_info": {
   "codemirror_mode": {
    "name": "ipython",
    "version": 3
   },
   "file_extension": ".py",
   "mimetype": "text/x-python",
   "name": "python",
   "nbconvert_exporter": "python",
   "pygments_lexer": "ipython3",
   "version": "3.7.0"
  }
 },
 "nbformat": 4,
 "nbformat_minor": 2
}
