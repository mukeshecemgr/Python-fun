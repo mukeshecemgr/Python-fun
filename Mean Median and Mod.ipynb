{
 "cells": [
  {
   "cell_type": "code",
   "execution_count": 1,
   "metadata": {},
   "outputs": [],
   "source": [
    "import numpy as np"
   ]
  },
  {
   "cell_type": "code",
   "execution_count": 2,
   "metadata": {},
   "outputs": [],
   "source": [
    "income = np.random.normal(27000,15000,10000)"
   ]
  },
  {
   "cell_type": "code",
   "execution_count": 3,
   "metadata": {},
   "outputs": [
    {
     "data": {
      "text/plain": [
       "27143.481822895043"
      ]
     },
     "execution_count": 3,
     "metadata": {},
     "output_type": "execute_result"
    }
   ],
   "source": [
    "np.mean(income)"
   ]
  },
  {
   "cell_type": "code",
   "execution_count": 4,
   "metadata": {},
   "outputs": [
    {
     "data": {
      "image/png": "[encoded data removed]",
      "text/plain": [
       "<Figure size 432x288 with 1 Axes>"
      ]
     },
     "metadata": {
      "needs_background": "light"
     },
     "output_type": "display_data"
    }
   ],
   "source": [
    "%matplotlib inline\n",
    "import matplotlib.pyplot as plt\n",
    "plt.hist(income,50)\n",
    "plt.show()"
   ]
  },
  {
   "cell_type": "code",
   "execution_count": 5,
   "metadata": {},
   "outputs": [
    {
     "data": {
      "text/plain": [
       "27133.757493552606"
      ]
     },
     "execution_count": 5,
     "metadata": {},
     "output_type": "execute_result"
    }
   ],
   "source": [
    "np.median(income)"
   ]
  },
  {
   "cell_type": "code",
   "execution_count": 6,
   "metadata": {},
   "outputs": [],
   "source": [
    "income=np.append(income,[10000000000])"
   ]
  },
  {
   "cell_type": "code",
   "execution_count": 7,
   "metadata": {},
   "outputs": [
    {
     "data": {
      "text/plain": [
       "1027040.7777451203"
      ]
     },
     "execution_count": 7,
     "metadata": {},
     "output_type": "execute_result"
    }
   ],
   "source": [
    "np.mean(income)"
   ]
  },
  {
   "cell_type": "code",
   "execution_count": 8,
   "metadata": {},
   "outputs": [
    {
     "data": {
      "text/plain": [
       "27136.569629067762"
      ]
     },
     "execution_count": 8,
     "metadata": {},
     "output_type": "execute_result"
    }
   ],
   "source": [
    "np.median(income)"
   ]
  },
  {
   "cell_type": "markdown",
   "metadata": {},
   "source": [
    "mean is more outlier than median, so median gives more relevent infomration than mean"
   ]
  },
  {
   "cell_type": "code",
   "execution_count": 9,
   "metadata": {},
   "outputs": [],
   "source": [
    "ages=np.random.randint(18,high=90,size=500)"
   ]
  },
  {
   "cell_type": "code",
   "execution_count": 10,
   "metadata": {},
   "outputs": [
    {
     "data": {
      "text/plain": [
       "array([81, 71, 28, 25, 50, 50, 32, 76, 42, 47, 51, 56, 77, 89, 63, 84, 38,\n",
       "       57, 80, 73, 78, 80, 86, 54, 53, 52, 51, 44, 36, 54, 41, 35, 32, 27,\n",
       "       81, 85, 39, 87, 81, 81, 79, 37, 45, 59, 28, 88, 41, 30, 36, 60, 82,\n",
       "       63, 43, 66, 35, 65, 63, 44, 21, 79, 36, 22, 22, 82, 53, 33, 77, 89,\n",
       "       83, 89, 61, 87, 38, 21, 40, 29, 84, 54, 60, 32, 75, 75, 50, 30, 20,\n",
       "       67, 25, 80, 72, 31, 60, 30, 88, 80, 18, 71, 27, 34, 60, 59, 66, 22,\n",
       "       37, 62, 67, 21, 83, 42, 74, 77, 46, 37, 83, 41, 56, 28, 56, 60, 35,\n",
       "       82, 88, 19, 74, 58, 40, 72, 75, 86, 42, 21, 35, 66, 81, 46, 36, 85,\n",
       "       84, 48, 27, 31, 81, 39, 64, 63, 71, 51, 43, 82, 52, 77, 41, 65, 32,\n",
       "       74, 69, 46, 65, 55, 46, 37, 28, 42, 51, 30, 69, 80, 88, 49, 37, 59,\n",
       "       29, 19, 24, 80, 21, 83, 86, 24, 36, 53, 38, 31, 71, 56, 23, 48, 37,\n",
       "       57, 72, 67, 62, 62, 71, 41, 20, 82, 84, 70, 65, 26, 39, 19, 37, 29,\n",
       "       73, 53, 25, 89, 36, 66, 53, 76, 71, 40, 59, 33, 85, 65, 32, 60, 69,\n",
       "       52, 38, 65, 73, 78, 65, 18, 68, 19, 72, 42, 45, 19, 80, 26, 85, 51,\n",
       "       40, 59, 21, 45, 68, 69, 30, 26, 80, 34, 58, 62, 70, 27, 20, 61, 80,\n",
       "       71, 68, 70, 73, 37, 22, 56, 46, 44, 66, 34, 61, 70, 35, 39, 56, 33,\n",
       "       57, 88, 88, 66, 61, 83, 69, 29, 53, 87, 49, 68, 51, 59, 34, 70, 87,\n",
       "       39, 33, 37, 85, 22, 80, 19, 80, 31, 23, 30, 80, 56, 29, 69, 82, 69,\n",
       "       69, 28, 35, 48, 65, 76, 88, 61, 51, 66, 43, 61, 25, 21, 42, 48, 40,\n",
       "       89, 68, 31, 54, 35, 24, 52, 68, 63, 85, 39, 82, 84, 56, 63, 82, 87,\n",
       "       71, 36, 55, 85, 33, 77, 27, 69, 46, 79, 66, 60, 70, 18, 42, 83, 28,\n",
       "       67, 53, 31, 44, 25, 19, 75, 63, 62, 64, 79, 20, 65, 76, 55, 18, 73,\n",
       "       71, 84, 86, 68, 66, 35, 57, 60, 87, 85, 34, 64, 72, 85, 36, 22, 73,\n",
       "       39, 21, 87, 44, 49, 54, 83, 35, 86, 28, 32, 30, 65, 59, 61, 29, 44,\n",
       "       30, 46, 80, 69, 70, 42, 56, 71, 34, 82, 57, 64, 21, 28, 50, 23, 26,\n",
       "       75, 70, 19, 29, 53, 19, 69, 49, 40, 28, 86, 36, 21, 18, 41, 72, 33,\n",
       "       30, 35, 36, 55, 31, 32, 66, 53, 20, 19, 36, 81, 52, 30, 72, 30, 33,\n",
       "       33, 29, 76, 63, 64, 54, 52, 20, 45, 77, 73, 78, 28, 21, 24, 85, 88,\n",
       "       27, 84, 27, 29, 51, 28, 23, 61, 27, 33, 70, 47, 26, 68, 31, 18, 30,\n",
       "       64, 56, 58, 67, 44, 83, 38])"
      ]
     },
     "execution_count": 10,
     "metadata": {},
     "output_type": "execute_result"
    }
   ],
   "source": [
    "ages"
   ]
  },
  {
   "cell_type": "code",
   "execution_count": 11,
   "metadata": {},
   "outputs": [
    {
     "data": {
      "text/plain": [
       "ModeResult(mode=array([80]), count=array([13]))"
      ]
     },
     "execution_count": 11,
     "metadata": {},
     "output_type": "execute_result"
    }
   ],
   "source": [
    "from scipy import stats\n",
    "stats.mode(ages)"
   ]
  },
  {
   "cell_type": "markdown",
   "metadata": {},
   "source": [
    "Exercise :\n",
    "find mean, median and mode of following data"
   ]
  },
  {
   "cell_type": "code",
   "execution_count": 12,
   "metadata": {},
   "outputs": [],
   "source": [
    "income=np.random.normal(100,20.0,10000)"
   ]
  },
  {
   "cell_type": "code",
   "execution_count": 13,
   "metadata": {},
   "outputs": [
    {
     "data": {
      "image/png": "[encoded data removed]",
      "text/plain": [
       "<Figure size 432x288 with 1 Axes>"
      ]
     },
     "metadata": {
      "needs_background": "light"
     },
     "output_type": "display_data"
    }
   ],
   "source": [
    "plt.hist(income,50)\n",
    "plt.show()"
   ]
  },
  {
   "cell_type": "code",
   "execution_count": 14,
   "metadata": {},
   "outputs": [
    {
     "data": {
      "text/plain": [
       "100.19605509405176"
      ]
     },
     "execution_count": 14,
     "metadata": {},
     "output_type": "execute_result"
    }
   ],
   "source": [
    "np.mean(income)"
   ]
  },
  {
   "cell_type": "code",
   "execution_count": 15,
   "metadata": {},
   "outputs": [
    {
     "data": {
      "text/plain": [
       "100.11124988030602"
      ]
     },
     "execution_count": 15,
     "metadata": {},
     "output_type": "execute_result"
    }
   ],
   "source": [
    "np.median(income)"
   ]
  },
  {
   "cell_type": "code",
   "execution_count": 16,
   "metadata": {},
   "outputs": [
    {
     "data": {
      "text/plain": [
       "ModeResult(mode=array([27.76646993]), count=array([1]))"
      ]
     },
     "execution_count": 16,
     "metadata": {},
     "output_type": "execute_result"
    }
   ],
   "source": [
    "stats.mode(income)"
   ]
  },
  {
   "cell_type": "code",
   "execution_count": 19,
   "metadata": {},
   "outputs": [],
   "source": [
    "import math\n",
    "variance = np.average([math.pow(x-(np.mean(income)),2) for x in income])"
   ]
  },
  {
   "cell_type": "code",
   "execution_count": 20,
   "metadata": {},
   "outputs": [
    {
     "data": {
      "text/plain": [
       "391.54224838697314"
      ]
     },
     "execution_count": 20,
     "metadata": {},
     "output_type": "execute_result"
    }
   ],
   "source": [
    "variance"
   ]
  },
  {
   "cell_type": "code",
   "execution_count": 21,
   "metadata": {},
   "outputs": [],
   "source": [
    "stdDev=math.sqrt(variance)"
   ]
  },
  {
   "cell_type": "code",
   "execution_count": 22,
   "metadata": {},
   "outputs": [
    {
     "data": {
      "text/plain": [
       "19.787426522591893"
      ]
     },
     "execution_count": 22,
     "metadata": {},
     "output_type": "execute_result"
    }
   ],
   "source": [
    "stdDev"
   ]
  },
  {
   "cell_type": "code",
   "execution_count": 25,
   "metadata": {},
   "outputs": [
    {
     "name": "stdout",
     "output_type": "stream",
     "text": [
      "19.787426522591893\n"
     ]
    }
   ],
   "source": [
    "print(income.std())"
   ]
  },
  {
   "cell_type": "code",
   "execution_count": 26,
   "metadata": {},
   "outputs": [
    {
     "name": "stdout",
     "output_type": "stream",
     "text": [
      "391.54224838697314\n"
     ]
    }
   ],
   "source": [
    "print(income.var())"
   ]
  },
  {
   "cell_type": "markdown",
   "metadata": {},
   "source": [
    "Matches with above manula computation"
   ]
  },
  {
   "cell_type": "code",
   "execution_count": 27,
   "metadata": {},
   "outputs": [],
   "source": [
    "value=np.random.normal(income.var(),income.std(),100000)"
   ]
  },
  {
   "cell_type": "code",
   "execution_count": 29,
   "metadata": {},
   "outputs": [
    {
     "data": {
      "image/png": "[encoded data removed]",
      "text/plain": [
       "<Figure size 432x288 with 1 Axes>"
      ]
     },
     "metadata": {
      "needs_background": "light"
     },
     "output_type": "display_data"
    }
   ],
   "source": [
    "plt.hist(value,50)\n",
    "plt.show()"
   ]
  },
  {
   "cell_type": "code",
   "execution_count": null,
   "metadata": {},
   "outputs": [],
   "source": []
  }
 ],
 "metadata": {
  "kernelspec": {
   "display_name": "Python 3",
   "language": "python",
   "name": "python3"
  },
  "language_info": {
   "codemirror_mode": {
    "name": "ipython",
    "version": 3
   },
   "file_extension": ".py",
   "mimetype": "text/x-python",
   "name": "python",
   "nbconvert_exporter": "python",
   "pygments_lexer": "ipython3",
   "version": "3.7.0"
  }
 },
 "nbformat": 4,
 "nbformat_minor": 2
}
