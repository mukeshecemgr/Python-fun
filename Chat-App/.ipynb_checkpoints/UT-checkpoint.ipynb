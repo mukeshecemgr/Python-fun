{
 "cells": [
  {
   "cell_type": "code",
   "execution_count": 16,
   "metadata": {},
   "outputs": [],
   "source": [
    "import json"
   ]
  },
  {
   "cell_type": "code",
   "execution_count": 17,
   "metadata": {},
   "outputs": [
    {
     "name": "stdout",
     "output_type": "stream",
     "text": [
      "{'ClientList': ['Client1', 'Client2', 'Client3'], 'ClientDB': 'clientdb', 'Client1': {'Name': 'Tom', 'Mobile': '1234567890', 'IP': '127.0.0.1', 'Port': 22221, 'contactsTable': 'contact_1234567890', 'mainTable': 'usr_1234567890'}, 'Client2': {'Name': 'John', 'Mobile': '2345678901', 'IP': '127.0.0.1', 'Port': 22222, 'contactsTable': 'contact_3456789012', 'mainTable': 'usr_3456789012'}, 'Client3': {'Name': 'James', 'Mobile': '3456789012', 'IP': '127.0.0.1', 'Port': 22223, 'contactsTable': 'contact_3456789012', 'mainTable': 'usr_3456789012'}}\n"
     ]
    }
   ],
   "source": [
    "with open(\"client_config.json\",\"r+\") as fs:\n",
    "    data=json.load(fs)\n",
    "    print(data)"
   ]
  },
  {
   "cell_type": "code",
   "execution_count": 18,
   "metadata": {},
   "outputs": [
    {
     "data": {
      "text/plain": [
       "['Client1', 'Client2', 'Client3']"
      ]
     },
     "execution_count": 18,
     "metadata": {},
     "output_type": "execute_result"
    }
   ],
   "source": [
    "data['ClientList']"
   ]
  },
  {
   "cell_type": "code",
   "execution_count": 19,
   "metadata": {},
   "outputs": [
    {
     "ename": "NameError",
     "evalue": "name 'MAIN_TABLE_NAME' is not defined",
     "output_type": "error",
     "traceback": [
      "\u001b[0;31m---------------------------------------------------------------------------\u001b[0m",
      "\u001b[0;31mNameError\u001b[0m                                 Traceback (most recent call last)",
      "\u001b[0;32m<ipython-input-19-2a2d04d0e9de>\u001b[0m in \u001b[0;36m<module>\u001b[0;34m()\u001b[0m\n\u001b[1;32m      1\u001b[0m MAIN_TABLE_DISCRIPTON = (\n\u001b[0;32m----> 2\u001b[0;31m     \u001b[0;34m\"CREATE TABLE `\"\u001b[0m\u001b[0;34m+\u001b[0m\u001b[0mMAIN_TABLE_NAME\u001b[0m\u001b[0;34m+\u001b[0m\u001b[0;34m\"` (\"\u001b[0m\u001b[0;34m\u001b[0m\u001b[0;34m\u001b[0m\u001b[0m\n\u001b[0m\u001b[1;32m      3\u001b[0m     \u001b[0;34m\"  `id` int(11) NOT NULL AUTO_INCREMENT,\"\u001b[0m\u001b[0;34m\u001b[0m\u001b[0;34m\u001b[0m\u001b[0m\n\u001b[1;32m      4\u001b[0m     \u001b[0;34m\"  `time` varchar(128) ,\"\u001b[0m\u001b[0;34m\u001b[0m\u001b[0;34m\u001b[0m\u001b[0m\n\u001b[1;32m      5\u001b[0m     \u001b[0;34m\"  `contacts` varchar(16) NOT NULL,\"\u001b[0m\u001b[0;34m\u001b[0m\u001b[0;34m\u001b[0m\u001b[0m\n",
      "\u001b[0;31mNameError\u001b[0m: name 'MAIN_TABLE_NAME' is not defined"
     ]
    }
   ],
   "source": [
    "MAIN_TABLE_DISCRIPTON = (\n",
    "    \"CREATE TABLE `{}` (\"\n",
    "    \"  `id` int(11) NOT NULL AUTO_INCREMENT,\"\n",
    "    \"  `time` varchar(128) ,\"\n",
    "    \"  `contacts` varchar(16) NOT NULL,\"\n",
    "    \"  `status` enum('Online','Offline') NOT NULL,\"\n",
    "    \"  `reply_status` enum('no','yes') NOT NULL,\"\n",
    "    \"  `message` varchar(2048) ,\"\n",
    "    \"  PRIMARY KEY (`id`)\"\n",
    "    \") ENGINE=InnoDB\")"
   ]
  },
  {
   "cell_type": "code",
   "execution_count": null,
   "metadata": {},
   "outputs": [],
   "source": []
  }
 ],
 "metadata": {
  "kernelspec": {
   "display_name": "Python 3",
   "language": "python",
   "name": "python3"
  },
  "language_info": {
   "codemirror_mode": {
    "name": "ipython",
    "version": 3
   },
   "file_extension": ".py",
   "mimetype": "text/x-python",
   "name": "python",
   "nbconvert_exporter": "python",
   "pygments_lexer": "ipython3",
   "version": "3.7.6"
  }
 },
 "nbformat": 4,
 "nbformat_minor": 2
}
