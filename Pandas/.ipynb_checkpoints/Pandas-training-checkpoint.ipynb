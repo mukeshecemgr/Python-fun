{
 "cells": [
  {
   "cell_type": "markdown",
   "metadata": {},
   "source": [
    "Getting Started with Pandas "
   ]
  },
  {
   "cell_type": "code",
   "execution_count": 2,
   "metadata": {},
   "outputs": [
    {
     "name": "stdout",
     "output_type": "stream",
     "text": [
      "   Name  Age Address\n",
      "0  John   40      NY\n"
     ]
    }
   ],
   "source": [
    "import pandas as pd\n",
    "#Create Tabuler using Pandas, Pandas can interprate Dictionary and form a tabuler where all Keys will represent \n",
    "#column name\n",
    "\n",
    "myDict={'Name':'John','Age':40,'Address':'NY'}\n",
    "myTable=pd.DataFrame(myDict,index=[0])\n",
    "print(myTable)\n",
    "\n",
    "#The DataFrame in Pandas creats tabular data, a bit like a spreadsheet"
   ]
  },
  {
   "cell_type": "code",
   "execution_count": 10,
   "metadata": {},
   "outputs": [
    {
     "name": "stdout",
     "output_type": "stream",
     "text": [
      "    Name  Age Address\n",
      "0   John   40      NY\n",
      "1    Tom   30      NJ\n",
      "2  Jonny   45      LA\n",
      "3  James   28     SNF\n",
      "                                 0\n",
      "Name     [John, Tom, Jonny, James]\n",
      "Age               [40, 30, 45, 28]\n",
      "Address          [NY, NJ, LA, SNF]\n",
      "    Name  Age Address\n",
      "0   John   40      NY\n",
      "1    Tom   30      NJ\n",
      "2  Jonny   45      LA\n",
      "3  James   28     SNF\n"
     ]
    },
    {
     "data": {
      "text/plain": [
       "0     NY\n",
       "1     NJ\n",
       "2     LA\n",
       "3    SNF\n",
       "Name: Address, dtype: object"
      ]
     },
     "execution_count": 10,
     "metadata": {},
     "output_type": "execute_result"
    }
   ],
   "source": [
    "#Now Create Multi-Rows tables\n",
    "myDict1={'Name':['John','Tom','Jonny','James'],\n",
    "         'Age':[40,30,45,28],\n",
    "         'Address':['NY','NJ','LA','SNF']\n",
    "        }\n",
    "#seriesData=pd.Series(myDict1)\n",
    "myTable=pd.DataFrame(myDict1,index=[0,1,2,3])\n",
    "print(myTable)\n",
    "\n",
    "#or we can do somthing like this 1. First covert rows into series and then create the dataFrame \n",
    "seriesData=pd.Series(myDict1).to_frame()\n",
    "dataTable=pd.DataFrame(seriesData)\n",
    "print(dataTable)\n",
    "\n",
    "#or\n",
    "dictData = pd.DataFrame.from_dict(myDict1)\n",
    "print(dictData)\n",
    "\n",
    "dictData.to_csv(\"myDict.csv\")\n",
    "dictData.to_excel(\"myDict.xlsx\",sheet_name=\"Dictionary\")\n",
    "dictData['Name']\n",
    "dictData.Address"
   ]
  },
  {
   "cell_type": "code",
   "execution_count": 12,
   "metadata": {},
   "outputs": [
    {
     "name": "stdout",
     "output_type": "stream",
     "text": [
      "    Name  Age Address  NewCol\n",
      "0   John   40      NY       1\n",
      "1    Tom   30      NJ       2\n",
      "2  Jonny   45      LA       3\n",
      "3  James   28     SNF       4\n"
     ]
    }
   ],
   "source": [
    "#No Add New Column to DataFrame\n",
    "dictData['NewCol']=[1,2,3,4]\n",
    "#dictData.NewCol2 = [1,2,3,4]\n",
    "print(dictData)"
   ]
  },
  {
   "cell_type": "markdown",
   "metadata": {},
   "source": [
    "Reading excel files "
   ]
  },
  {
   "cell_type": "code",
   "execution_count": 5,
   "metadata": {},
   "outputs": [],
   "source": [
    "df = pd.read_excel('Sales.xlsx')"
   ]
  },
  {
   "cell_type": "code",
   "execution_count": 6,
   "metadata": {},
   "outputs": [
    {
     "name": "stdout",
     "output_type": "stream",
     "text": [
      "   ID   Name  Age  Salary\n",
      "0   1    Abe   61  140000\n",
      "1   2    Bob   34   44000\n",
      "2   5  Chris   34   40000\n",
      "3   7    Dan   41   52000\n",
      "4   8    Ken   57  115000\n",
      "5  11    Joe   38   38000\n"
     ]
    }
   ],
   "source": [
    "print(df)"
   ]
  },
  {
   "cell_type": "markdown",
   "metadata": {},
   "source": [
    "By Default it will read the First sheet, to read sheet wise we must pass sheet_name='Sheet Name'"
   ]
  },
  {
   "cell_type": "code",
   "execution_count": 7,
   "metadata": {},
   "outputs": [
    {
     "name": "stdout",
     "output_type": "stream",
     "text": [
      "   ID      Name      City Industry Type\n",
      "0   4  Samsonic  pleasant             J\n",
      "1   6  Panasung   oaktown             J\n",
      "2   7    Samony   jackson             B\n",
      "3   9    Orange   Jackson             B\n"
     ]
    }
   ],
   "source": [
    "df = pd.read_excel('Sales.xlsx',sheet_name='Customers')\n",
    "print(df)"
   ]
  },
  {
   "cell_type": "code",
   "execution_count": 8,
   "metadata": {},
   "outputs": [
    {
     "data": {
      "text/html": [
       "<div>\n",
       "<style scoped>\n",
       "    .dataframe tbody tr th:only-of-type {\n",
       "        vertical-align: middle;\n",
       "    }\n",
       "\n",
       "    .dataframe tbody tr th {\n",
       "        vertical-align: top;\n",
       "    }\n",
       "\n",
       "    .dataframe thead th {\n",
       "        text-align: right;\n",
       "    }\n",
       "</style>\n",
       "<table border=\"1\" class=\"dataframe\">\n",
       "  <thead>\n",
       "    <tr style=\"text-align: right;\">\n",
       "      <th></th>\n",
       "      <th>Time</th>\n",
       "      <th>gNodeB Name</th>\n",
       "      <th>DL Traffic Volume(GB)(GB)</th>\n",
       "    </tr>\n",
       "  </thead>\n",
       "  <tbody>\n",
       "    <tr>\n",
       "      <th>430</th>\n",
       "      <td>2020-03-15 23:00</td>\n",
       "      <td>KBR0977-P3_SRAN</td>\n",
       "      <td>75.5009</td>\n",
       "    </tr>\n",
       "    <tr>\n",
       "      <th>196</th>\n",
       "      <td>2020-03-12 17:00</td>\n",
       "      <td>KBR0977-P3_SRAN</td>\n",
       "      <td>63.1608</td>\n",
       "    </tr>\n",
       "    <tr>\n",
       "      <th>409</th>\n",
       "      <td>2020-03-15 16:00</td>\n",
       "      <td>KBR0977-P3_SRAN</td>\n",
       "      <td>54.2645</td>\n",
       "    </tr>\n",
       "    <tr>\n",
       "      <th>71</th>\n",
       "      <td>2020-03-10 23:00</td>\n",
       "      <td>KBR0977-P3_SRAN</td>\n",
       "      <td>47.7336</td>\n",
       "    </tr>\n",
       "    <tr>\n",
       "      <th>91</th>\n",
       "      <td>2020-03-11 06:00</td>\n",
       "      <td>KBR0977-P3_SRAN</td>\n",
       "      <td>43.6381</td>\n",
       "    </tr>\n",
       "    <tr>\n",
       "      <th>143</th>\n",
       "      <td>2020-03-11 23:00</td>\n",
       "      <td>KBR0977-P3_SRAN</td>\n",
       "      <td>42.5595</td>\n",
       "    </tr>\n",
       "    <tr>\n",
       "      <th>481</th>\n",
       "      <td>2020-03-16 16:00</td>\n",
       "      <td>KBR0977-P3_SRAN</td>\n",
       "      <td>39.8689</td>\n",
       "    </tr>\n",
       "    <tr>\n",
       "      <th>529</th>\n",
       "      <td>2020-03-17 08:00</td>\n",
       "      <td>KBR0977-P3_SRAN</td>\n",
       "      <td>30.8999</td>\n",
       "    </tr>\n",
       "    <tr>\n",
       "      <th>167</th>\n",
       "      <td>2020-03-12 07:00</td>\n",
       "      <td>KBR0977-P3_SRAN</td>\n",
       "      <td>30.8577</td>\n",
       "    </tr>\n",
       "    <tr>\n",
       "      <th>432</th>\n",
       "      <td>2020-03-16 00:00</td>\n",
       "      <td>KBR0977-P3_SRAN</td>\n",
       "      <td>26.4155</td>\n",
       "    </tr>\n",
       "    <tr>\n",
       "      <th>407</th>\n",
       "      <td>2020-03-15 15:00</td>\n",
       "      <td>KBR0977-P3_SRAN</td>\n",
       "      <td>25.8671</td>\n",
       "    </tr>\n",
       "    <tr>\n",
       "      <th>146</th>\n",
       "      <td>2020-03-12 00:00</td>\n",
       "      <td>KBR0977-P3_SRAN</td>\n",
       "      <td>23.2082</td>\n",
       "    </tr>\n",
       "    <tr>\n",
       "      <th>88</th>\n",
       "      <td>2020-03-11 05:00</td>\n",
       "      <td>KBR0977-P3_SRAN</td>\n",
       "      <td>22.2142</td>\n",
       "    </tr>\n",
       "    <tr>\n",
       "      <th>200</th>\n",
       "      <td>2020-03-12 18:00</td>\n",
       "      <td>KBR0977-P3_SRAN</td>\n",
       "      <td>22.1849</td>\n",
       "    </tr>\n",
       "    <tr>\n",
       "      <th>80</th>\n",
       "      <td>2020-03-11 02:00</td>\n",
       "      <td>KBR0977-P3_SRAN</td>\n",
       "      <td>18.3921</td>\n",
       "    </tr>\n",
       "    <tr>\n",
       "      <th>411</th>\n",
       "      <td>2020-03-15 17:00</td>\n",
       "      <td>KBR0977-P3_SRAN</td>\n",
       "      <td>18.2659</td>\n",
       "    </tr>\n",
       "    <tr>\n",
       "      <th>127</th>\n",
       "      <td>2020-03-11 18:00</td>\n",
       "      <td>KBR0977-P3_SRAN</td>\n",
       "      <td>17.9879</td>\n",
       "    </tr>\n",
       "    <tr>\n",
       "      <th>478</th>\n",
       "      <td>2020-03-16 15:00</td>\n",
       "      <td>KBR0977-P3_SRAN</td>\n",
       "      <td>17.9403</td>\n",
       "    </tr>\n",
       "    <tr>\n",
       "      <th>499</th>\n",
       "      <td>2020-03-16 22:00</td>\n",
       "      <td>KBR0977-P3_SRAN</td>\n",
       "      <td>17.9331</td>\n",
       "    </tr>\n",
       "    <tr>\n",
       "      <th>502</th>\n",
       "      <td>2020-03-16 23:00</td>\n",
       "      <td>KBR0977-P3_SRAN</td>\n",
       "      <td>17.1931</td>\n",
       "    </tr>\n",
       "    <tr>\n",
       "      <th>374</th>\n",
       "      <td>2020-03-15 04:00</td>\n",
       "      <td>KBR0977-P3_SRAN</td>\n",
       "      <td>16.0635</td>\n",
       "    </tr>\n",
       "    <tr>\n",
       "      <th>55</th>\n",
       "      <td>2020-03-10 18:00</td>\n",
       "      <td>KBR0977-P3_SRAN</td>\n",
       "      <td>16.0424</td>\n",
       "    </tr>\n",
       "    <tr>\n",
       "      <th>67</th>\n",
       "      <td>2020-03-10 22:00</td>\n",
       "      <td>KBR0977-P3_SRAN</td>\n",
       "      <td>15.7995</td>\n",
       "    </tr>\n",
       "    <tr>\n",
       "      <th>131</th>\n",
       "      <td>2020-03-11 19:00</td>\n",
       "      <td>KBR0977-P3_SRAN</td>\n",
       "      <td>15.7821</td>\n",
       "    </tr>\n",
       "    <tr>\n",
       "      <th>255</th>\n",
       "      <td>2020-03-13 13:00</td>\n",
       "      <td>KBR0977-P3_SRAN</td>\n",
       "      <td>15.3060</td>\n",
       "    </tr>\n",
       "    <tr>\n",
       "      <th>339</th>\n",
       "      <td>2020-03-14 17:00</td>\n",
       "      <td>KBR0977-P3_SRAN</td>\n",
       "      <td>14.9312</td>\n",
       "    </tr>\n",
       "    <tr>\n",
       "      <th>49</th>\n",
       "      <td>2020-03-10 16:00</td>\n",
       "      <td>KBR0977-P3_SRAN</td>\n",
       "      <td>14.9139</td>\n",
       "    </tr>\n",
       "    <tr>\n",
       "      <th>50</th>\n",
       "      <td>2020-03-10 16:00</td>\n",
       "      <td>KBR0977-P3_SRAN</td>\n",
       "      <td>14.7988</td>\n",
       "    </tr>\n",
       "    <tr>\n",
       "      <th>467</th>\n",
       "      <td>2020-03-16 11:00</td>\n",
       "      <td>KBR0977-P3_SRAN</td>\n",
       "      <td>14.5893</td>\n",
       "    </tr>\n",
       "    <tr>\n",
       "      <th>279</th>\n",
       "      <td>2020-03-13 21:00</td>\n",
       "      <td>KBR0977-P3_SRAN</td>\n",
       "      <td>14.5360</td>\n",
       "    </tr>\n",
       "    <tr>\n",
       "      <th>...</th>\n",
       "      <td>...</td>\n",
       "      <td>...</td>\n",
       "      <td>...</td>\n",
       "    </tr>\n",
       "    <tr>\n",
       "      <th>429</th>\n",
       "      <td>2020-03-15 23:00</td>\n",
       "      <td>KBR0977-P3_SRAN</td>\n",
       "      <td>9.5012</td>\n",
       "    </tr>\n",
       "    <tr>\n",
       "      <th>30</th>\n",
       "      <td>2020-03-10 10:00</td>\n",
       "      <td>KBR0977-P3_SRAN</td>\n",
       "      <td>9.4861</td>\n",
       "    </tr>\n",
       "    <tr>\n",
       "      <th>33</th>\n",
       "      <td>2020-03-10 11:00</td>\n",
       "      <td>KBR0977-P3_SRAN</td>\n",
       "      <td>9.3904</td>\n",
       "    </tr>\n",
       "    <tr>\n",
       "      <th>212</th>\n",
       "      <td>2020-03-12 22:00</td>\n",
       "      <td>KBR0977-P3_SRAN</td>\n",
       "      <td>9.2425</td>\n",
       "    </tr>\n",
       "    <tr>\n",
       "      <th>132</th>\n",
       "      <td>2020-03-11 20:00</td>\n",
       "      <td>KBR0977-P3_SRAN</td>\n",
       "      <td>9.2224</td>\n",
       "    </tr>\n",
       "    <tr>\n",
       "      <th>240</th>\n",
       "      <td>2020-03-13 08:00</td>\n",
       "      <td>KBR0977-P3_SRAN</td>\n",
       "      <td>9.0872</td>\n",
       "    </tr>\n",
       "    <tr>\n",
       "      <th>469</th>\n",
       "      <td>2020-03-16 12:00</td>\n",
       "      <td>KBR0977-P3_SRAN</td>\n",
       "      <td>9.0780</td>\n",
       "    </tr>\n",
       "    <tr>\n",
       "      <th>354</th>\n",
       "      <td>2020-03-14 22:00</td>\n",
       "      <td>KBR0977-P3_SRAN</td>\n",
       "      <td>9.0471</td>\n",
       "    </tr>\n",
       "    <tr>\n",
       "      <th>63</th>\n",
       "      <td>2020-03-10 21:00</td>\n",
       "      <td>KBR0977-P3_SRAN</td>\n",
       "      <td>8.8920</td>\n",
       "    </tr>\n",
       "    <tr>\n",
       "      <th>404</th>\n",
       "      <td>2020-03-15 14:00</td>\n",
       "      <td>KBR0977-P3_SRAN</td>\n",
       "      <td>8.8539</td>\n",
       "    </tr>\n",
       "    <tr>\n",
       "      <th>179</th>\n",
       "      <td>2020-03-12 11:00</td>\n",
       "      <td>KBR0977-P3_SRAN</td>\n",
       "      <td>8.6196</td>\n",
       "    </tr>\n",
       "    <tr>\n",
       "      <th>331</th>\n",
       "      <td>2020-03-14 14:00</td>\n",
       "      <td>KBR0977-P3_SRAN</td>\n",
       "      <td>8.5764</td>\n",
       "    </tr>\n",
       "    <tr>\n",
       "      <th>487</th>\n",
       "      <td>2020-03-16 18:00</td>\n",
       "      <td>KBR0977-P3_SRAN</td>\n",
       "      <td>8.5736</td>\n",
       "    </tr>\n",
       "    <tr>\n",
       "      <th>168</th>\n",
       "      <td>2020-03-12 08:00</td>\n",
       "      <td>KBR0977-P3_SRAN</td>\n",
       "      <td>8.5602</td>\n",
       "    </tr>\n",
       "    <tr>\n",
       "      <th>210</th>\n",
       "      <td>2020-03-12 22:00</td>\n",
       "      <td>KBR0977-P3_SRAN</td>\n",
       "      <td>8.4019</td>\n",
       "    </tr>\n",
       "    <tr>\n",
       "      <th>213</th>\n",
       "      <td>2020-03-12 23:00</td>\n",
       "      <td>KBR0977-P3_SRAN</td>\n",
       "      <td>8.3910</td>\n",
       "    </tr>\n",
       "    <tr>\n",
       "      <th>243</th>\n",
       "      <td>2020-03-13 09:00</td>\n",
       "      <td>KBR0977-P3_SRAN</td>\n",
       "      <td>8.3202</td>\n",
       "    </tr>\n",
       "    <tr>\n",
       "      <th>46</th>\n",
       "      <td>2020-03-10 15:00</td>\n",
       "      <td>KBR0977-P3_SRAN</td>\n",
       "      <td>8.3192</td>\n",
       "    </tr>\n",
       "    <tr>\n",
       "      <th>408</th>\n",
       "      <td>2020-03-15 16:00</td>\n",
       "      <td>KBR0977-P3_SRAN</td>\n",
       "      <td>8.3098</td>\n",
       "    </tr>\n",
       "    <tr>\n",
       "      <th>251</th>\n",
       "      <td>2020-03-13 11:00</td>\n",
       "      <td>KBR0977-P3_SRAN</td>\n",
       "      <td>8.2858</td>\n",
       "    </tr>\n",
       "    <tr>\n",
       "      <th>270</th>\n",
       "      <td>2020-03-13 18:00</td>\n",
       "      <td>KBR0977-P3_SRAN</td>\n",
       "      <td>8.2363</td>\n",
       "    </tr>\n",
       "    <tr>\n",
       "      <th>35</th>\n",
       "      <td>2020-03-10 11:00</td>\n",
       "      <td>KBR0977-P3_SRAN</td>\n",
       "      <td>8.0811</td>\n",
       "    </tr>\n",
       "    <tr>\n",
       "      <th>102</th>\n",
       "      <td>2020-03-11 10:00</td>\n",
       "      <td>KBR0977-P3_SRAN</td>\n",
       "      <td>7.9973</td>\n",
       "    </tr>\n",
       "    <tr>\n",
       "      <th>351</th>\n",
       "      <td>2020-03-14 21:00</td>\n",
       "      <td>KBR0977-P3_SRAN</td>\n",
       "      <td>7.9414</td>\n",
       "    </tr>\n",
       "    <tr>\n",
       "      <th>29</th>\n",
       "      <td>2020-03-10 09:00</td>\n",
       "      <td>KBR0977-P3_SRAN</td>\n",
       "      <td>7.9374</td>\n",
       "    </tr>\n",
       "    <tr>\n",
       "      <th>505</th>\n",
       "      <td>2020-03-17 00:00</td>\n",
       "      <td>KBR0977-P3_SRAN</td>\n",
       "      <td>7.9283</td>\n",
       "    </tr>\n",
       "    <tr>\n",
       "      <th>2</th>\n",
       "      <td>2020-03-10 00:00</td>\n",
       "      <td>KBR0977-P3_SRAN</td>\n",
       "      <td>7.9012</td>\n",
       "    </tr>\n",
       "    <tr>\n",
       "      <th>70</th>\n",
       "      <td>2020-03-10 23:00</td>\n",
       "      <td>KBR0977-P3_SRAN</td>\n",
       "      <td>7.8961</td>\n",
       "    </tr>\n",
       "    <tr>\n",
       "      <th>25</th>\n",
       "      <td>2020-03-10 08:00</td>\n",
       "      <td>KBR0977-P3_SRAN</td>\n",
       "      <td>7.8464</td>\n",
       "    </tr>\n",
       "    <tr>\n",
       "      <th>176</th>\n",
       "      <td>2020-03-12 10:00</td>\n",
       "      <td>KBR0977-P3_SRAN</td>\n",
       "      <td>7.8365</td>\n",
       "    </tr>\n",
       "  </tbody>\n",
       "</table>\n",
       "<p>100 rows × 3 columns</p>\n",
       "</div>"
      ],
      "text/plain": [
       "                 Time      gNodeB Name  DL Traffic Volume(GB)(GB)\n",
       "430  2020-03-15 23:00  KBR0977-P3_SRAN                    75.5009\n",
       "196  2020-03-12 17:00  KBR0977-P3_SRAN                    63.1608\n",
       "409  2020-03-15 16:00  KBR0977-P3_SRAN                    54.2645\n",
       "71   2020-03-10 23:00  KBR0977-P3_SRAN                    47.7336\n",
       "91   2020-03-11 06:00  KBR0977-P3_SRAN                    43.6381\n",
       "143  2020-03-11 23:00  KBR0977-P3_SRAN                    42.5595\n",
       "481  2020-03-16 16:00  KBR0977-P3_SRAN                    39.8689\n",
       "529  2020-03-17 08:00  KBR0977-P3_SRAN                    30.8999\n",
       "167  2020-03-12 07:00  KBR0977-P3_SRAN                    30.8577\n",
       "432  2020-03-16 00:00  KBR0977-P3_SRAN                    26.4155\n",
       "407  2020-03-15 15:00  KBR0977-P3_SRAN                    25.8671\n",
       "146  2020-03-12 00:00  KBR0977-P3_SRAN                    23.2082\n",
       "88   2020-03-11 05:00  KBR0977-P3_SRAN                    22.2142\n",
       "200  2020-03-12 18:00  KBR0977-P3_SRAN                    22.1849\n",
       "80   2020-03-11 02:00  KBR0977-P3_SRAN                    18.3921\n",
       "411  2020-03-15 17:00  KBR0977-P3_SRAN                    18.2659\n",
       "127  2020-03-11 18:00  KBR0977-P3_SRAN                    17.9879\n",
       "478  2020-03-16 15:00  KBR0977-P3_SRAN                    17.9403\n",
       "499  2020-03-16 22:00  KBR0977-P3_SRAN                    17.9331\n",
       "502  2020-03-16 23:00  KBR0977-P3_SRAN                    17.1931\n",
       "374  2020-03-15 04:00  KBR0977-P3_SRAN                    16.0635\n",
       "55   2020-03-10 18:00  KBR0977-P3_SRAN                    16.0424\n",
       "67   2020-03-10 22:00  KBR0977-P3_SRAN                    15.7995\n",
       "131  2020-03-11 19:00  KBR0977-P3_SRAN                    15.7821\n",
       "255  2020-03-13 13:00  KBR0977-P3_SRAN                    15.3060\n",
       "339  2020-03-14 17:00  KBR0977-P3_SRAN                    14.9312\n",
       "49   2020-03-10 16:00  KBR0977-P3_SRAN                    14.9139\n",
       "50   2020-03-10 16:00  KBR0977-P3_SRAN                    14.7988\n",
       "467  2020-03-16 11:00  KBR0977-P3_SRAN                    14.5893\n",
       "279  2020-03-13 21:00  KBR0977-P3_SRAN                    14.5360\n",
       "..                ...              ...                        ...\n",
       "429  2020-03-15 23:00  KBR0977-P3_SRAN                     9.5012\n",
       "30   2020-03-10 10:00  KBR0977-P3_SRAN                     9.4861\n",
       "33   2020-03-10 11:00  KBR0977-P3_SRAN                     9.3904\n",
       "212  2020-03-12 22:00  KBR0977-P3_SRAN                     9.2425\n",
       "132  2020-03-11 20:00  KBR0977-P3_SRAN                     9.2224\n",
       "240  2020-03-13 08:00  KBR0977-P3_SRAN                     9.0872\n",
       "469  2020-03-16 12:00  KBR0977-P3_SRAN                     9.0780\n",
       "354  2020-03-14 22:00  KBR0977-P3_SRAN                     9.0471\n",
       "63   2020-03-10 21:00  KBR0977-P3_SRAN                     8.8920\n",
       "404  2020-03-15 14:00  KBR0977-P3_SRAN                     8.8539\n",
       "179  2020-03-12 11:00  KBR0977-P3_SRAN                     8.6196\n",
       "331  2020-03-14 14:00  KBR0977-P3_SRAN                     8.5764\n",
       "487  2020-03-16 18:00  KBR0977-P3_SRAN                     8.5736\n",
       "168  2020-03-12 08:00  KBR0977-P3_SRAN                     8.5602\n",
       "210  2020-03-12 22:00  KBR0977-P3_SRAN                     8.4019\n",
       "213  2020-03-12 23:00  KBR0977-P3_SRAN                     8.3910\n",
       "243  2020-03-13 09:00  KBR0977-P3_SRAN                     8.3202\n",
       "46   2020-03-10 15:00  KBR0977-P3_SRAN                     8.3192\n",
       "408  2020-03-15 16:00  KBR0977-P3_SRAN                     8.3098\n",
       "251  2020-03-13 11:00  KBR0977-P3_SRAN                     8.2858\n",
       "270  2020-03-13 18:00  KBR0977-P3_SRAN                     8.2363\n",
       "35   2020-03-10 11:00  KBR0977-P3_SRAN                     8.0811\n",
       "102  2020-03-11 10:00  KBR0977-P3_SRAN                     7.9973\n",
       "351  2020-03-14 21:00  KBR0977-P3_SRAN                     7.9414\n",
       "29   2020-03-10 09:00  KBR0977-P3_SRAN                     7.9374\n",
       "505  2020-03-17 00:00  KBR0977-P3_SRAN                     7.9283\n",
       "2    2020-03-10 00:00  KBR0977-P3_SRAN                     7.9012\n",
       "70   2020-03-10 23:00  KBR0977-P3_SRAN                     7.8961\n",
       "25   2020-03-10 08:00  KBR0977-P3_SRAN                     7.8464\n",
       "176  2020-03-12 10:00  KBR0977-P3_SRAN                     7.8365\n",
       "\n",
       "[100 rows x 3 columns]"
      ]
     },
     "execution_count": 8,
     "metadata": {},
     "output_type": "execute_result"
    }
   ],
   "source": [
    "df = pd.read_excel('tob-data-user.xlsx')\n",
    "df"
   ]
  },
  {
   "cell_type": "code",
   "execution_count": 9,
   "metadata": {},
   "outputs": [
    {
     "data": {
      "text/plain": [
       "(100, 3)"
      ]
     },
     "execution_count": 9,
     "metadata": {},
     "output_type": "execute_result"
    }
   ],
   "source": [
    "df.shape"
   ]
  },
  {
   "cell_type": "code",
   "execution_count": 10,
   "metadata": {},
   "outputs": [
    {
     "data": {
      "text/plain": [
       "100"
      ]
     },
     "execution_count": 10,
     "metadata": {},
     "output_type": "execute_result"
    }
   ],
   "source": [
    "len(df['DL Traffic Volume(GB)(GB)'])"
   ]
  },
  {
   "cell_type": "code",
   "execution_count": 11,
   "metadata": {},
   "outputs": [
    {
     "data": {
      "text/plain": [
       "Index(['Time', 'gNodeB Name', 'DL Traffic Volume(GB)(GB)'], dtype='object')"
      ]
     },
     "execution_count": 11,
     "metadata": {},
     "output_type": "execute_result"
    }
   ],
   "source": [
    "df.columns"
   ]
  },
  {
   "cell_type": "markdown",
   "metadata": {},
   "source": [
    "Since it is a huge table to lets try to print some use full info only"
   ]
  },
  {
   "cell_type": "code",
   "execution_count": 12,
   "metadata": {},
   "outputs": [
    {
     "data": {
      "text/html": [
       "<div>\n",
       "<style scoped>\n",
       "    .dataframe tbody tr th:only-of-type {\n",
       "        vertical-align: middle;\n",
       "    }\n",
       "\n",
       "    .dataframe tbody tr th {\n",
       "        vertical-align: top;\n",
       "    }\n",
       "\n",
       "    .dataframe thead th {\n",
       "        text-align: right;\n",
       "    }\n",
       "</style>\n",
       "<table border=\"1\" class=\"dataframe\">\n",
       "  <thead>\n",
       "    <tr style=\"text-align: right;\">\n",
       "      <th></th>\n",
       "      <th>Time</th>\n",
       "      <th>gNodeB Name</th>\n",
       "      <th>DL Traffic Volume(GB)(GB)</th>\n",
       "    </tr>\n",
       "  </thead>\n",
       "  <tbody>\n",
       "    <tr>\n",
       "      <th>430</th>\n",
       "      <td>2020-03-15 23:00</td>\n",
       "      <td>KBR0977-P3_SRAN</td>\n",
       "      <td>75.5009</td>\n",
       "    </tr>\n",
       "    <tr>\n",
       "      <th>196</th>\n",
       "      <td>2020-03-12 17:00</td>\n",
       "      <td>KBR0977-P3_SRAN</td>\n",
       "      <td>63.1608</td>\n",
       "    </tr>\n",
       "    <tr>\n",
       "      <th>409</th>\n",
       "      <td>2020-03-15 16:00</td>\n",
       "      <td>KBR0977-P3_SRAN</td>\n",
       "      <td>54.2645</td>\n",
       "    </tr>\n",
       "    <tr>\n",
       "      <th>71</th>\n",
       "      <td>2020-03-10 23:00</td>\n",
       "      <td>KBR0977-P3_SRAN</td>\n",
       "      <td>47.7336</td>\n",
       "    </tr>\n",
       "    <tr>\n",
       "      <th>91</th>\n",
       "      <td>2020-03-11 06:00</td>\n",
       "      <td>KBR0977-P3_SRAN</td>\n",
       "      <td>43.6381</td>\n",
       "    </tr>\n",
       "  </tbody>\n",
       "</table>\n",
       "</div>"
      ],
      "text/plain": [
       "                 Time      gNodeB Name  DL Traffic Volume(GB)(GB)\n",
       "430  2020-03-15 23:00  KBR0977-P3_SRAN                    75.5009\n",
       "196  2020-03-12 17:00  KBR0977-P3_SRAN                    63.1608\n",
       "409  2020-03-15 16:00  KBR0977-P3_SRAN                    54.2645\n",
       "71   2020-03-10 23:00  KBR0977-P3_SRAN                    47.7336\n",
       "91   2020-03-11 06:00  KBR0977-P3_SRAN                    43.6381"
      ]
     },
     "execution_count": 12,
     "metadata": {},
     "output_type": "execute_result"
    }
   ],
   "source": [
    "df.head()"
   ]
  },
  {
   "cell_type": "code",
   "execution_count": 13,
   "metadata": {},
   "outputs": [
    {
     "data": {
      "text/html": [
       "<div>\n",
       "<style scoped>\n",
       "    .dataframe tbody tr th:only-of-type {\n",
       "        vertical-align: middle;\n",
       "    }\n",
       "\n",
       "    .dataframe tbody tr th {\n",
       "        vertical-align: top;\n",
       "    }\n",
       "\n",
       "    .dataframe thead th {\n",
       "        text-align: right;\n",
       "    }\n",
       "</style>\n",
       "<table border=\"1\" class=\"dataframe\">\n",
       "  <thead>\n",
       "    <tr style=\"text-align: right;\">\n",
       "      <th></th>\n",
       "      <th>Time</th>\n",
       "      <th>gNodeB Name</th>\n",
       "      <th>DL Traffic Volume(GB)(GB)</th>\n",
       "    </tr>\n",
       "  </thead>\n",
       "  <tbody>\n",
       "    <tr>\n",
       "      <th>505</th>\n",
       "      <td>2020-03-17 00:00</td>\n",
       "      <td>KBR0977-P3_SRAN</td>\n",
       "      <td>7.9283</td>\n",
       "    </tr>\n",
       "    <tr>\n",
       "      <th>2</th>\n",
       "      <td>2020-03-10 00:00</td>\n",
       "      <td>KBR0977-P3_SRAN</td>\n",
       "      <td>7.9012</td>\n",
       "    </tr>\n",
       "    <tr>\n",
       "      <th>70</th>\n",
       "      <td>2020-03-10 23:00</td>\n",
       "      <td>KBR0977-P3_SRAN</td>\n",
       "      <td>7.8961</td>\n",
       "    </tr>\n",
       "    <tr>\n",
       "      <th>25</th>\n",
       "      <td>2020-03-10 08:00</td>\n",
       "      <td>KBR0977-P3_SRAN</td>\n",
       "      <td>7.8464</td>\n",
       "    </tr>\n",
       "    <tr>\n",
       "      <th>176</th>\n",
       "      <td>2020-03-12 10:00</td>\n",
       "      <td>KBR0977-P3_SRAN</td>\n",
       "      <td>7.8365</td>\n",
       "    </tr>\n",
       "  </tbody>\n",
       "</table>\n",
       "</div>"
      ],
      "text/plain": [
       "                 Time      gNodeB Name  DL Traffic Volume(GB)(GB)\n",
       "505  2020-03-17 00:00  KBR0977-P3_SRAN                     7.9283\n",
       "2    2020-03-10 00:00  KBR0977-P3_SRAN                     7.9012\n",
       "70   2020-03-10 23:00  KBR0977-P3_SRAN                     7.8961\n",
       "25   2020-03-10 08:00  KBR0977-P3_SRAN                     7.8464\n",
       "176  2020-03-12 10:00  KBR0977-P3_SRAN                     7.8365"
      ]
     },
     "execution_count": 13,
     "metadata": {},
     "output_type": "execute_result"
    }
   ],
   "source": [
    "df.tail()"
   ]
  },
  {
   "cell_type": "code",
   "execution_count": 14,
   "metadata": {},
   "outputs": [
    {
     "data": {
      "text/plain": [
       "75.5009"
      ]
     },
     "execution_count": 14,
     "metadata": {},
     "output_type": "execute_result"
    }
   ],
   "source": [
    "df['DL Traffic Volume(GB)(GB)'].max()"
   ]
  },
  {
   "cell_type": "code",
   "execution_count": 15,
   "metadata": {},
   "outputs": [
    {
     "data": {
      "text/plain": [
       "7.8365"
      ]
     },
     "execution_count": 15,
     "metadata": {},
     "output_type": "execute_result"
    }
   ],
   "source": [
    "df['DL Traffic Volume(GB)(GB)'].min()"
   ]
  },
  {
   "cell_type": "code",
   "execution_count": 16,
   "metadata": {},
   "outputs": [
    {
     "data": {
      "text/plain": [
       "11.3454"
      ]
     },
     "execution_count": 16,
     "metadata": {},
     "output_type": "execute_result"
    }
   ],
   "source": [
    "df['DL Traffic Volume(GB)(GB)'].median()"
   ]
  },
  {
   "cell_type": "code",
   "execution_count": 17,
   "metadata": {},
   "outputs": [
    {
     "data": {
      "text/plain": [
       "1525.4516999999998"
      ]
     },
     "execution_count": 17,
     "metadata": {},
     "output_type": "execute_result"
    }
   ],
   "source": [
    "df['DL Traffic Volume(GB)(GB)'].sum()"
   ]
  },
  {
   "cell_type": "code",
   "execution_count": 18,
   "metadata": {},
   "outputs": [
    {
     "data": {
      "text/plain": [
       "15.254517"
      ]
     },
     "execution_count": 18,
     "metadata": {},
     "output_type": "execute_result"
    }
   ],
   "source": [
    "df['DL Traffic Volume(GB)(GB)'].mean()"
   ]
  },
  {
   "cell_type": "code",
   "execution_count": 19,
   "metadata": {},
   "outputs": [
    {
     "data": {
      "text/plain": [
       "430    75.5009\n",
       "196    63.1608\n",
       "409    54.2645\n",
       "71     47.7336\n",
       "91     43.6381\n",
       "Name: DL Traffic Volume(GB)(GB), dtype: float64"
      ]
     },
     "execution_count": 19,
     "metadata": {},
     "output_type": "execute_result"
    }
   ],
   "source": [
    "#DataFrame.sort_values(by, axis=0, ascending=True, inplace=False, kind='quicksort', \n",
    "#                                 na_position='last', ignore_index=False, key=None)\n",
    "df['DL Traffic Volume(GB)(GB)'].sort_values(axis=0, ascending=False).head()"
   ]
  },
  {
   "cell_type": "code",
   "execution_count": 20,
   "metadata": {},
   "outputs": [
    {
     "data": {
      "text/plain": [
       "array([75.5009, 63.1608, 54.2645, 47.7336, 43.6381, 42.5595, 39.8689,\n",
       "       30.8999, 30.8577, 26.4155, 25.8671, 23.2082, 22.2142, 22.1849,\n",
       "       18.3921, 18.2659, 17.9879, 17.9403, 17.9331, 17.1931, 16.0635,\n",
       "       16.0424, 15.7995, 15.7821, 15.306 , 14.9312, 14.9139, 14.7988,\n",
       "       14.5893, 14.536 , 14.2256, 13.8531, 13.8063, 13.3795, 13.3332,\n",
       "       13.142 , 12.9819, 12.6724, 12.6371, 12.5961, 12.4941, 12.4699,\n",
       "       12.3351, 12.1612, 11.9017, 11.7964, 11.7335, 11.6534, 11.5136,\n",
       "       11.4519, 11.2389, 11.1506, 11.1503, 11.0187, 10.9645, 10.9064,\n",
       "       10.7658, 10.5256, 10.5033, 10.3868, 10.2521, 10.2468, 10.1821,\n",
       "       10.1549, 10.108 ,  9.9256,  9.8972,  9.8955,  9.7963,  9.6349,\n",
       "        9.5012,  9.4861,  9.3904,  9.2425,  9.2224,  9.0872,  9.078 ,\n",
       "        9.0471,  8.892 ,  8.8539,  8.6196,  8.5764,  8.5736,  8.5602,\n",
       "        8.4019,  8.391 ,  8.3202,  8.3192,  8.3098,  8.2858,  8.2363,\n",
       "        8.0811,  7.9973,  7.9414,  7.9374,  7.9283,  7.9012,  7.8961,\n",
       "        7.8464,  7.8365])"
      ]
     },
     "execution_count": 20,
     "metadata": {},
     "output_type": "execute_result"
    }
   ],
   "source": [
    "df['DL Traffic Volume(GB)(GB)'].unique()"
   ]
  },
  {
   "cell_type": "code",
   "execution_count": 21,
   "metadata": {},
   "outputs": [
    {
     "data": {
      "text/plain": [
       "86"
      ]
     },
     "execution_count": 21,
     "metadata": {},
     "output_type": "execute_result"
    }
   ],
   "source": [
    "len(df['Time'].unique())"
   ]
  },
  {
   "cell_type": "code",
   "execution_count": 22,
   "metadata": {},
   "outputs": [
    {
     "data": {
      "text/plain": [
       "430    75.5009\n",
       "196    63.1608\n",
       "409    54.2645\n",
       "71     47.7336\n",
       "91     43.6381\n",
       "Name: DL Traffic Volume(GB)(GB), dtype: float64"
      ]
     },
     "execution_count": 22,
     "metadata": {},
     "output_type": "execute_result"
    }
   ],
   "source": [
    "#Change the type of Column \n",
    "type(df['DL Traffic Volume(GB)(GB)'])\n",
    "df['DL Traffic Volume(GB)(GB)'].head()"
   ]
  },
  {
   "cell_type": "code",
   "execution_count": 23,
   "metadata": {},
   "outputs": [
    {
     "data": {
      "text/plain": [
       "430    75\n",
       "196    63\n",
       "409    54\n",
       "71     47\n",
       "91     43\n",
       "Name: DL Traffic Volume(GB)(GB), dtype: int64"
      ]
     },
     "execution_count": 23,
     "metadata": {},
     "output_type": "execute_result"
    }
   ],
   "source": [
    "df['DL Traffic Volume(GB)(GB)'] = df['DL Traffic Volume(GB)(GB)'].astype('int')\n",
    "df['DL Traffic Volume(GB)(GB)'].head()"
   ]
  },
  {
   "cell_type": "code",
   "execution_count": 24,
   "metadata": {},
   "outputs": [
    {
     "data": {
      "text/plain": [
       "430    True\n",
       "196    True\n",
       "409    True\n",
       "71     True\n",
       "91     True\n",
       "Name: DL Traffic Volume(GB)(GB), dtype: bool"
      ]
     },
     "execution_count": 24,
     "metadata": {},
     "output_type": "execute_result"
    }
   ],
   "source": [
    "df['DL Traffic Volume(GB)(GB)'].apply(lambda x:  x > 5).head()"
   ]
  },
  {
   "cell_type": "code",
   "execution_count": 25,
   "metadata": {},
   "outputs": [
    {
     "data": {
      "text/plain": [
       "430    2020-03-15 23:00\n",
       "196    2020-03-12 17:00\n",
       "409    2020-03-15 16:00\n",
       "71     2020-03-10 23:00\n",
       "91     2020-03-11 06:00\n",
       "Name: Time, dtype: object"
      ]
     },
     "execution_count": 25,
     "metadata": {},
     "output_type": "execute_result"
    }
   ],
   "source": [
    "df['Time'][df['DL Traffic Volume(GB)(GB)'].apply(lambda x:  x > 5)].head()"
   ]
  },
  {
   "cell_type": "code",
   "execution_count": 26,
   "metadata": {},
   "outputs": [
    {
     "data": {
      "text/plain": [
       "'2020-03-17 08:00'"
      ]
     },
     "execution_count": 26,
     "metadata": {},
     "output_type": "execute_result"
    }
   ],
   "source": [
    "#Dealing with Date and time in Pandas\n",
    "df['Time'].max()"
   ]
  },
  {
   "cell_type": "code",
   "execution_count": 27,
   "metadata": {},
   "outputs": [
    {
     "ename": "AttributeError",
     "evalue": "Can only use .dt accessor with datetimelike values",
     "output_type": "error",
     "traceback": [
      "\u001b[0;31m---------------------------------------------------------------------------\u001b[0m",
      "\u001b[0;31mAttributeError\u001b[0m                            Traceback (most recent call last)",
      "\u001b[0;32m<ipython-input-27-d0640b79b587>\u001b[0m in \u001b[0;36m<module>\u001b[0;34m()\u001b[0m\n\u001b[0;32m----> 1\u001b[0;31m \u001b[0mdf\u001b[0m\u001b[0;34m[\u001b[0m\u001b[0;34m'Time'\u001b[0m\u001b[0;34m]\u001b[0m\u001b[0;34m.\u001b[0m\u001b[0mdt\u001b[0m\u001b[0;34m.\u001b[0m\u001b[0mmonth\u001b[0m\u001b[0;34m\u001b[0m\u001b[0;34m\u001b[0m\u001b[0m\n\u001b[0m",
      "\u001b[0;32m~/anaconda3/lib/python3.7/site-packages/pandas/core/generic.py\u001b[0m in \u001b[0;36m__getattr__\u001b[0;34m(self, name)\u001b[0m\n\u001b[1;32m   4370\u001b[0m         if (name in self._internal_names_set or name in self._metadata or\n\u001b[1;32m   4371\u001b[0m                 name in self._accessors):\n\u001b[0;32m-> 4372\u001b[0;31m             \u001b[0;32mreturn\u001b[0m \u001b[0mobject\u001b[0m\u001b[0;34m.\u001b[0m\u001b[0m__getattribute__\u001b[0m\u001b[0;34m(\u001b[0m\u001b[0mself\u001b[0m\u001b[0;34m,\u001b[0m \u001b[0mname\u001b[0m\u001b[0;34m)\u001b[0m\u001b[0;34m\u001b[0m\u001b[0;34m\u001b[0m\u001b[0m\n\u001b[0m\u001b[1;32m   4373\u001b[0m         \u001b[0;32melse\u001b[0m\u001b[0;34m:\u001b[0m\u001b[0;34m\u001b[0m\u001b[0;34m\u001b[0m\u001b[0m\n\u001b[1;32m   4374\u001b[0m             \u001b[0;32mif\u001b[0m \u001b[0mself\u001b[0m\u001b[0;34m.\u001b[0m\u001b[0m_info_axis\u001b[0m\u001b[0;34m.\u001b[0m\u001b[0m_can_hold_identifiers_and_holds_name\u001b[0m\u001b[0;34m(\u001b[0m\u001b[0mname\u001b[0m\u001b[0;34m)\u001b[0m\u001b[0;34m:\u001b[0m\u001b[0;34m\u001b[0m\u001b[0;34m\u001b[0m\u001b[0m\n",
      "\u001b[0;32m~/anaconda3/lib/python3.7/site-packages/pandas/core/accessor.py\u001b[0m in \u001b[0;36m__get__\u001b[0;34m(self, obj, cls)\u001b[0m\n\u001b[1;32m    131\u001b[0m             \u001b[0;31m# we're accessing the attribute of the class, i.e., Dataset.geo\u001b[0m\u001b[0;34m\u001b[0m\u001b[0;34m\u001b[0m\u001b[0;34m\u001b[0m\u001b[0m\n\u001b[1;32m    132\u001b[0m             \u001b[0;32mreturn\u001b[0m \u001b[0mself\u001b[0m\u001b[0;34m.\u001b[0m\u001b[0m_accessor\u001b[0m\u001b[0;34m\u001b[0m\u001b[0;34m\u001b[0m\u001b[0m\n\u001b[0;32m--> 133\u001b[0;31m         \u001b[0maccessor_obj\u001b[0m \u001b[0;34m=\u001b[0m \u001b[0mself\u001b[0m\u001b[0;34m.\u001b[0m\u001b[0m_accessor\u001b[0m\u001b[0;34m(\u001b[0m\u001b[0mobj\u001b[0m\u001b[0;34m)\u001b[0m\u001b[0;34m\u001b[0m\u001b[0;34m\u001b[0m\u001b[0m\n\u001b[0m\u001b[1;32m    134\u001b[0m         \u001b[0;31m# Replace the property with the accessor object. Inspired by:\u001b[0m\u001b[0;34m\u001b[0m\u001b[0;34m\u001b[0m\u001b[0;34m\u001b[0m\u001b[0m\n\u001b[1;32m    135\u001b[0m         \u001b[0;31m# http://www.pydanny.com/cached-property.html\u001b[0m\u001b[0;34m\u001b[0m\u001b[0;34m\u001b[0m\u001b[0;34m\u001b[0m\u001b[0m\n",
      "\u001b[0;32m~/anaconda3/lib/python3.7/site-packages/pandas/core/indexes/accessors.py\u001b[0m in \u001b[0;36m__new__\u001b[0;34m(cls, data)\u001b[0m\n\u001b[1;32m    323\u001b[0m             \u001b[0;32mpass\u001b[0m  \u001b[0;31m# we raise an attribute error anyway\u001b[0m\u001b[0;34m\u001b[0m\u001b[0;34m\u001b[0m\u001b[0m\n\u001b[1;32m    324\u001b[0m \u001b[0;34m\u001b[0m\u001b[0m\n\u001b[0;32m--> 325\u001b[0;31m         raise AttributeError(\"Can only use .dt accessor with datetimelike \"\n\u001b[0m\u001b[1;32m    326\u001b[0m                              \"values\")\n",
      "\u001b[0;31mAttributeError\u001b[0m: Can only use .dt accessor with datetimelike values"
     ]
    }
   ],
   "source": [
    "df['Time'].dt.month"
   ]
  },
  {
   "cell_type": "markdown",
   "metadata": {},
   "source": [
    "Here Format of time is of object type, we can do date time stander operation directly on Object, we need to change\n",
    "its type first"
   ]
  },
  {
   "cell_type": "code",
   "execution_count": 38,
   "metadata": {},
   "outputs": [
    {
     "data": {
      "text/plain": [
       "430   2020-03-15 23:00:00\n",
       "196   2020-03-12 17:00:00\n",
       "409   2020-03-15 16:00:00\n",
       "71    2020-03-10 23:00:00\n",
       "91    2020-03-11 06:00:00\n",
       "Name: Time, dtype: datetime64[ns]"
      ]
     },
     "execution_count": 38,
     "metadata": {},
     "output_type": "execute_result"
    }
   ],
   "source": [
    "\n",
    "df['Time'].head()"
   ]
  },
  {
   "cell_type": "code",
   "execution_count": 39,
   "metadata": {},
   "outputs": [],
   "source": [
    "df['Time'] = df['Time'].astype('datetime64')"
   ]
  },
  {
   "cell_type": "code",
   "execution_count": 40,
   "metadata": {},
   "outputs": [
    {
     "data": {
      "text/plain": [
       "430   2020-03-15 23:00:00\n",
       "196   2020-03-12 17:00:00\n",
       "409   2020-03-15 16:00:00\n",
       "71    2020-03-10 23:00:00\n",
       "91    2020-03-11 06:00:00\n",
       "Name: Time, dtype: datetime64[ns]"
      ]
     },
     "execution_count": 40,
     "metadata": {},
     "output_type": "execute_result"
    }
   ],
   "source": [
    "df['Time'].head()"
   ]
  },
  {
   "cell_type": "code",
   "execution_count": 41,
   "metadata": {},
   "outputs": [
    {
     "data": {
      "text/plain": [
       "Timestamp('2020-03-17 08:00:00')"
      ]
     },
     "execution_count": 41,
     "metadata": {},
     "output_type": "execute_result"
    }
   ],
   "source": [
    "df['Time'].max()"
   ]
  },
  {
   "cell_type": "code",
   "execution_count": 42,
   "metadata": {},
   "outputs": [
    {
     "data": {
      "text/plain": [
       "430    3\n",
       "196    3\n",
       "409    3\n",
       "71     3\n",
       "91     3\n",
       "Name: Time, dtype: int64"
      ]
     },
     "execution_count": 42,
     "metadata": {},
     "output_type": "execute_result"
    }
   ],
   "source": [
    "df['Time'].dt.month.head()"
   ]
  },
  {
   "cell_type": "code",
   "execution_count": 43,
   "metadata": {},
   "outputs": [
    {
     "data": {
      "text/plain": [
       "430    15\n",
       "196    12\n",
       "409    15\n",
       "71     10\n",
       "91     11\n",
       "Name: Time, dtype: int64"
      ]
     },
     "execution_count": 43,
     "metadata": {},
     "output_type": "execute_result"
    }
   ],
   "source": [
    "df['Time'].dt.day.head()"
   ]
  },
  {
   "cell_type": "code",
   "execution_count": 52,
   "metadata": {},
   "outputs": [
    {
     "data": {
      "text/plain": [
       "430   2020-03-15 23:00:00\n",
       "196   2020-03-12 17:00:00\n",
       "409   2020-03-15 16:00:00\n",
       "71    2020-03-10 23:00:00\n",
       "91    2020-03-11 06:00:00\n",
       "Name: Time, dtype: datetime64[ns]"
      ]
     },
     "execution_count": 52,
     "metadata": {},
     "output_type": "execute_result"
    }
   ],
   "source": [
    "df['Time'][df['Time'].dt.day > 5 ].head()"
   ]
  },
  {
   "cell_type": "code",
   "execution_count": 69,
   "metadata": {},
   "outputs": [],
   "source": [
    "df.Time = pd.to_datetime(df.Time)"
   ]
  },
  {
   "cell_type": "code",
   "execution_count": 77,
   "metadata": {},
   "outputs": [
    {
     "data": {
      "text/html": [
       "<div>\n",
       "<style scoped>\n",
       "    .dataframe tbody tr th:only-of-type {\n",
       "        vertical-align: middle;\n",
       "    }\n",
       "\n",
       "    .dataframe tbody tr th {\n",
       "        vertical-align: top;\n",
       "    }\n",
       "\n",
       "    .dataframe thead th {\n",
       "        text-align: right;\n",
       "    }\n",
       "</style>\n",
       "<table border=\"1\" class=\"dataframe\">\n",
       "  <thead>\n",
       "    <tr style=\"text-align: right;\">\n",
       "      <th></th>\n",
       "      <th>Time</th>\n",
       "      <th>gNodeB Name</th>\n",
       "      <th>DL Traffic Volume(GB)(GB)</th>\n",
       "    </tr>\n",
       "  </thead>\n",
       "  <tbody>\n",
       "    <tr>\n",
       "      <th>430</th>\n",
       "      <td>2020-03-15 23:00:00</td>\n",
       "      <td>KBR0977-P3_SRAN</td>\n",
       "      <td>75</td>\n",
       "    </tr>\n",
       "    <tr>\n",
       "      <th>196</th>\n",
       "      <td>2020-03-12 17:00:00</td>\n",
       "      <td>KBR0977-P3_SRAN</td>\n",
       "      <td>63</td>\n",
       "    </tr>\n",
       "    <tr>\n",
       "      <th>409</th>\n",
       "      <td>2020-03-15 16:00:00</td>\n",
       "      <td>KBR0977-P3_SRAN</td>\n",
       "      <td>54</td>\n",
       "    </tr>\n",
       "    <tr>\n",
       "      <th>71</th>\n",
       "      <td>2020-03-10 23:00:00</td>\n",
       "      <td>KBR0977-P3_SRAN</td>\n",
       "      <td>47</td>\n",
       "    </tr>\n",
       "    <tr>\n",
       "      <th>91</th>\n",
       "      <td>2020-03-11 06:00:00</td>\n",
       "      <td>KBR0977-P3_SRAN</td>\n",
       "      <td>43</td>\n",
       "    </tr>\n",
       "  </tbody>\n",
       "</table>\n",
       "</div>"
      ],
      "text/plain": [
       "                   Time      gNodeB Name  DL Traffic Volume(GB)(GB)\n",
       "430 2020-03-15 23:00:00  KBR0977-P3_SRAN                         75\n",
       "196 2020-03-12 17:00:00  KBR0977-P3_SRAN                         63\n",
       "409 2020-03-15 16:00:00  KBR0977-P3_SRAN                         54\n",
       "71  2020-03-10 23:00:00  KBR0977-P3_SRAN                         47\n",
       "91  2020-03-11 06:00:00  KBR0977-P3_SRAN                         43"
      ]
     },
     "execution_count": 77,
     "metadata": {},
     "output_type": "execute_result"
    }
   ],
   "source": [
    "df.head()"
   ]
  },
  {
   "cell_type": "code",
   "execution_count": null,
   "metadata": {},
   "outputs": [],
   "source": []
  }
 ],
 "metadata": {
  "kernelspec": {
   "display_name": "Python 3",
   "language": "python",
   "name": "python3"
  },
  "language_info": {
   "codemirror_mode": {
    "name": "ipython",
    "version": 3
   },
   "file_extension": ".py",
   "mimetype": "text/x-python",
   "name": "python",
   "nbconvert_exporter": "python",
   "pygments_lexer": "ipython3",
   "version": "3.7.6"
  }
 },
 "nbformat": 4,
 "nbformat_minor": 2
}
