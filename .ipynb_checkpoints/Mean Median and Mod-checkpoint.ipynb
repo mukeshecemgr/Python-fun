{
 "cells": [
  {
   "cell_type": "code",
   "execution_count": 1,
   "metadata": {},
   "outputs": [],
   "source": [
    "import numpy as np"
   ]
  },
  {
   "cell_type": "code",
   "execution_count": 5,
   "metadata": {},
   "outputs": [],
   "source": [
    "income = np.random.normal(27000,15000,10000)"
   ]
  },
  {
   "cell_type": "code",
   "execution_count": 6,
   "metadata": {},
   "outputs": [
    {
     "data": {
      "text/plain": [
       "26454.00564839706"
      ]
     },
     "execution_count": 6,
     "metadata": {},
     "output_type": "execute_result"
    }
   ],
   "source": [
    "np.mean(income)"
   ]
  },
  {
   "cell_type": "code",
   "execution_count": 9,
   "metadata": {},
   "outputs": [
    {
     "data": {
      "image/png": "[encoded data removed]",
      "text/plain": [
       "<Figure size 432x288 with 1 Axes>"
      ]
     },
     "metadata": {
      "needs_background": "light"
     },
     "output_type": "display_data"
    }
   ],
   "source": [
    "%matplotlib inline\n",
    "import matplotlib.pyplot as plt\n",
    "plt.hist(income,50)\n",
    "plt.show()"
   ]
  },
  {
   "cell_type": "code",
   "execution_count": 10,
   "metadata": {},
   "outputs": [
    {
     "data": {
      "text/plain": [
       "25170.12968717877"
      ]
     },
     "execution_count": 10,
     "metadata": {},
     "output_type": "execute_result"
    }
   ],
   "source": [
    "np.median(income)"
   ]
  },
  {
   "cell_type": "code",
   "execution_count": 11,
   "metadata": {},
   "outputs": [],
   "source": [
    "income=np.append(income,[10000000000])"
   ]
  },
  {
   "cell_type": "code",
   "execution_count": 12,
   "metadata": {},
   "outputs": [
    {
     "data": {
      "text/plain": [
       "99036093.0748994"
      ]
     },
     "execution_count": 12,
     "metadata": {},
     "output_type": "execute_result"
    }
   ],
   "source": [
    "np.mean(income)"
   ]
  },
  {
   "cell_type": "code",
   "execution_count": 13,
   "metadata": {},
   "outputs": [
    {
     "data": {
      "text/plain": [
       "25210.853920736037"
      ]
     },
     "execution_count": 13,
     "metadata": {},
     "output_type": "execute_result"
    }
   ],
   "source": [
    "np.median(income)"
   ]
  },
  {
   "cell_type": "markdown",
   "metadata": {},
   "source": [
    "mean is more outlier than median, so median gives more relevent infomration than mean"
   ]
  },
  {
   "cell_type": "code",
   "execution_count": 26,
   "metadata": {},
   "outputs": [],
   "source": [
    "ages=np.random.randint(18,high=90,size=500)"
   ]
  },
  {
   "cell_type": "code",
   "execution_count": 27,
   "metadata": {},
   "outputs": [
    {
     "data": {
      "text/plain": [
       "array([56, 42, 18, 78, 79, 74, 44, 26, 56, 83, 61, 49, 87, 38, 52, 51, 68,\n",
       "       89, 37, 27, 70, 84, 26, 28, 45, 75, 81, 53, 81, 59, 66, 82, 19, 81,\n",
       "       40, 64, 76, 46, 77, 76, 46, 43, 56, 80, 75, 87, 78, 61, 18, 83, 69,\n",
       "       72, 24, 55, 20, 86, 66, 33, 52, 40, 75, 84, 35, 22, 21, 73, 85, 22,\n",
       "       43, 47, 83, 60, 86, 37, 56, 54, 51, 46, 82, 67, 61, 35, 21, 46, 81,\n",
       "       75, 28, 37, 18, 75, 59, 22, 57, 84, 54, 63, 28, 47, 27, 28, 56, 38,\n",
       "       75, 63, 87, 27, 80, 47, 23, 80, 46, 89, 86, 27, 25, 29, 69, 24, 45,\n",
       "       77, 88, 54, 29, 63, 37, 40, 58, 44, 37, 58, 87, 67, 37, 24, 51, 67,\n",
       "       22, 25, 67, 26, 44, 80, 62, 76, 65, 88, 32, 38, 52, 39, 18, 22, 59,\n",
       "       67, 68, 77, 23, 80, 83, 77, 70, 73, 21, 79, 88, 21, 57, 53, 37, 30,\n",
       "       33, 32, 62, 86, 83, 77, 87, 67, 72, 39, 32, 60, 36, 89, 44, 84, 75,\n",
       "       25, 70, 18, 68, 79, 53, 47, 55, 89, 81, 88, 87, 33, 66, 30, 42, 51,\n",
       "       63, 78, 26, 42, 47, 31, 28, 25, 77, 82, 43, 75, 19, 73, 55, 50, 19,\n",
       "       45, 43, 52, 27, 73, 29, 59, 71, 21, 68, 86, 89, 33, 20, 35, 34, 64,\n",
       "       67, 19, 67, 85, 20, 23, 57, 76, 74, 54, 41, 51, 42, 57, 32, 41, 36,\n",
       "       67, 79, 48, 81, 49, 28, 50, 47, 40, 77, 76, 47, 48, 65, 34, 56, 52,\n",
       "       45, 26, 22, 22, 46, 39, 80, 26, 68, 53, 71, 69, 74, 25, 45, 21, 28,\n",
       "       87, 63, 88, 83, 22, 70, 34, 72, 51, 81, 31, 28, 43, 62, 23, 40, 74,\n",
       "       77, 46, 40, 59, 26, 55, 26, 47, 76, 65, 55, 53, 73, 54, 51, 37, 27,\n",
       "       87, 82, 89, 50, 85, 48, 29, 76, 52, 24, 56, 39, 83, 80, 89, 86, 37,\n",
       "       33, 70, 76, 88, 19, 33, 18, 69, 66, 53, 63, 51, 19, 74, 70, 67, 86,\n",
       "       42, 69, 68, 34, 59, 42, 66, 42, 89, 64, 44, 28, 78, 26, 56, 74, 34,\n",
       "       76, 24, 65, 56, 43, 49, 44, 21, 68, 54, 31, 58, 51, 42, 49, 46, 81,\n",
       "       55, 75, 45, 40, 26, 33, 81, 30, 24, 64, 36, 88, 76, 32, 78, 32, 43,\n",
       "       74, 87, 38, 25, 24, 46, 86, 82, 40, 20, 57, 70, 35, 77, 67, 82, 48,\n",
       "       65, 67, 43, 29, 44, 88, 57, 58, 84, 80, 75, 65, 52, 24, 18, 23, 60,\n",
       "       32, 26, 42, 65, 52, 65, 53, 45, 49, 21, 68, 23, 74, 39, 78, 62, 57,\n",
       "       83, 69, 30, 41, 81, 52, 25, 52, 69, 57, 69, 74, 54, 36, 49, 59, 57,\n",
       "       38, 76, 84, 31, 77, 30, 39, 65, 53, 57, 52, 65, 87, 61, 55, 23, 86,\n",
       "       18, 36, 64, 71, 35, 87, 36])"
      ]
     },
     "execution_count": 27,
     "metadata": {},
     "output_type": "execute_result"
    }
   ],
   "source": [
    "ages"
   ]
  },
  {
   "cell_type": "code",
   "execution_count": 28,
   "metadata": {},
   "outputs": [
    {
     "data": {
      "text/plain": [
       "ModeResult(mode=array([67]), count=array([12]))"
      ]
     },
     "execution_count": 28,
     "metadata": {},
     "output_type": "execute_result"
    }
   ],
   "source": [
    "from scipy import stats\n",
    "stats.mode(ages)"
   ]
  },
  {
   "cell_type": "markdown",
   "metadata": {},
   "source": [
    "Exercise :\n",
    "find mean, median and mode of following data"
   ]
  },
  {
   "cell_type": "code",
   "execution_count": 29,
   "metadata": {},
   "outputs": [],
   "source": [
    "income=np.random.normal(100,20.0,10000)"
   ]
  },
  {
   "cell_type": "code",
   "execution_count": 32,
   "metadata": {},
   "outputs": [
    {
     "data": {
      "image/png": "[encoded data removed]",
      "text/plain": [
       "<Figure size 432x288 with 1 Axes>"
      ]
     },
     "metadata": {
      "needs_background": "light"
     },
     "output_type": "display_data"
    }
   ],
   "source": [
    "plt.hist(income,50)\n",
    "plt.show()"
   ]
  },
  {
   "cell_type": "code",
   "execution_count": 33,
   "metadata": {},
   "outputs": [
    {
     "data": {
      "text/plain": [
       "99.85668734355716"
      ]
     },
     "execution_count": 33,
     "metadata": {},
     "output_type": "execute_result"
    }
   ],
   "source": [
    "np.mean(income)"
   ]
  },
  {
   "cell_type": "code",
   "execution_count": 34,
   "metadata": {},
   "outputs": [
    {
     "data": {
      "text/plain": [
       "99.98521483028772"
      ]
     },
     "execution_count": 34,
     "metadata": {},
     "output_type": "execute_result"
    }
   ],
   "source": [
    "np.median(income)"
   ]
  },
  {
   "cell_type": "code",
   "execution_count": 35,
   "metadata": {},
   "outputs": [
    {
     "data": {
      "text/plain": [
       "ModeResult(mode=array([15.8405922]), count=array([1]))"
      ]
     },
     "execution_count": 35,
     "metadata": {},
     "output_type": "execute_result"
    }
   ],
   "source": [
    "stats.mode(income)"
   ]
  },
  {
   "cell_type": "code",
   "execution_count": null,
   "metadata": {},
   "outputs": [],
   "source": []
  }
 ],
 "metadata": {
  "kernelspec": {
   "display_name": "Python 3",
   "language": "python",
   "name": "python3"
  },
  "language_info": {
   "codemirror_mode": {
    "name": "ipython",
    "version": 3
   },
   "file_extension": ".py",
   "mimetype": "text/x-python",
   "name": "python",
   "nbconvert_exporter": "python",
   "pygments_lexer": "ipython3",
   "version": "3.7.0"
  }
 },
 "nbformat": 4,
 "nbformat_minor": 2
}
