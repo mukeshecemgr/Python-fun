{
 "cells": [
  {
   "cell_type": "markdown",
   "metadata": {},
   "source": [
    "write a program to check anagram. Ex: str1='dear' and str2='read'. both string has similar character so both are anagram"
   ]
  },
  {
   "cell_type": "code",
   "execution_count": 5,
   "metadata": {},
   "outputs": [],
   "source": [
    "def check_anagram(s1,s2):\n",
    "    if len(s1) != len(s2):\n",
    "        return False\n",
    "    for i in s1:\n",
    "        if s2.count(i) == 0:\n",
    "            return False\n",
    "    return True\n"
   ]
  },
  {
   "cell_type": "code",
   "execution_count": 6,
   "metadata": {},
   "outputs": [
    {
     "name": "stdout",
     "output_type": "stream",
     "text": [
      "dear and read are anagram\n"
     ]
    }
   ],
   "source": [
    "s1='dear'\n",
    "s2='read'\n",
    "if True == check_anagram(s1,s2):\n",
    "    print('{} and {} are anagram'.format(s1,s2))\n",
    "else:\n",
    "    print('{} and {} are not anagram'.format(s1,s2))\n",
    "    \n",
    "    "
   ]
  },
  {
   "cell_type": "code",
   "execution_count": 7,
   "metadata": {},
   "outputs": [
    {
     "name": "stdout",
     "output_type": "stream",
     "text": [
      "soap and shop are not anagram\n"
     ]
    }
   ],
   "source": [
    "s1='soap'\n",
    "s2='shop'\n",
    "if True == check_anagram(s1,s2):\n",
    "    print('{} and {} are anagram'.format(s1,s2))\n",
    "else:\n",
    "    print('{} and {} are not anagram'.format(s1,s2))\n",
    "\n"
   ]
  },
  {
   "cell_type": "code",
   "execution_count": 10,
   "metadata": {},
   "outputs": [
    {
     "name": "stdout",
     "output_type": "stream",
     "text": [
      "dear and deer are not anagram\n"
     ]
    }
   ],
   "source": [
    "s1='dear'\n",
    "s2='deer'\n",
    "if True == check_anagram(s1,s2):\n",
    "    print('{} and {} are anagram'.format(s1,s2))\n",
    "else:\n",
    "    print('{} and {} are not anagram'.format(s1,s2))\n",
    "\n",
    "\n"
   ]
  },
  {
   "cell_type": "code",
   "execution_count": null,
   "metadata": {},
   "outputs": [],
   "source": []
  }
 ],
 "metadata": {
  "kernelspec": {
   "display_name": "Python 3",
   "language": "python",
   "name": "python3"
  },
  "language_info": {
   "codemirror_mode": {
    "name": "ipython",
    "version": 3
   },
   "file_extension": ".py",
   "mimetype": "text/x-python",
   "name": "python",
   "nbconvert_exporter": "python",
   "pygments_lexer": "ipython3",
   "version": "3.7.0"
  }
 },
 "nbformat": 4,
 "nbformat_minor": 2
}
